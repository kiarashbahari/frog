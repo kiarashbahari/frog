{
 "cells": [
  {
   "cell_type": "code",
   "execution_count": 42,
   "id": "7de7518c-3b9e-4d45-b0af-736f12858469",
   "metadata": {},
   "outputs": [],
   "source": [
    "library(tidyverse)\n",
    "library(repr)\n",
    "options(repr.matrix.max.rows = 6)\n",
    "library(readxl)"
   ]
  },
  {
   "cell_type": "code",
   "execution_count": 43,
   "id": "f221d2af-2df5-4007-a4d1-e02d659c4675",
   "metadata": {},
   "outputs": [
    {
     "ename": "ERROR",
     "evalue": "Error in parse(text = x, srcfile = src): The pipe operator requires a function call as RHS\n",
     "output_type": "error",
     "traceback": [
      "Error in parse(text = x, srcfile = src): The pipe operator requires a function call as RHS\nTraceback:\n"
     ]
    }
   ],
   "source": [
    "#read_excel(\"data/data.xlsx\")\n",
    "data1<-read_csv(\"data/data.csv\", skip=1)\n",
    " colnames(data1)<-make.names(colnames(data1))\n",
    "data1<-data1|>\n",
    "data1"
   ]
  },
  {
   "cell_type": "code",
   "execution_count": 44,
   "id": "d9614938-31d9-4698-a9e1-c43c49f2c367",
   "metadata": {},
   "outputs": [
    {
     "name": "stderr",
     "output_type": "stream",
     "text": [
      "\u001b[1m\u001b[22mNew names:\n",
      "\u001b[36m•\u001b[39m `` -> `...6`\n",
      "\u001b[36m•\u001b[39m `` -> `...7`\n",
      "\u001b[36m•\u001b[39m `` -> `...8`\n",
      "\u001b[36m•\u001b[39m `` -> `...9`\n",
      "\u001b[1mRows: \u001b[22m\u001b[34m71\u001b[39m \u001b[1mColumns: \u001b[22m\u001b[34m9\u001b[39m\n",
      "\u001b[36m──\u001b[39m \u001b[1mColumn specification\u001b[22m \u001b[36m────────────────────────────────────────────────────────\u001b[39m\n",
      "\u001b[1mDelimiter:\u001b[22m \",\"\n",
      "\u001b[31mchr\u001b[39m (4): Student ID, Total # embryos in dish, Max. developmental stage reach...\n",
      "\u001b[32mdbl\u001b[39m (1): Incubation temperature\n",
      "\u001b[33mlgl\u001b[39m (4): ...6, ...7, ...8, ...9\n",
      "\n",
      "\u001b[36mℹ\u001b[39m Use `spec()` to retrieve the full column specification for this data.\n",
      "\u001b[36mℹ\u001b[39m Specify the column types or set `show_col_types = FALSE` to quiet this message.\n",
      "Warning message in mask$eval_all_mutate(quo):\n",
      "“NAs introduced by coercion”\n"
     ]
    },
    {
     "data": {
      "text/html": [
       "<table class=\"dataframe\">\n",
       "<caption>A tibble: 71 × 3</caption>\n",
       "<thead>\n",
       "\t<tr><th scope=col>Incubation.temperature</th><th scope=col>Total...embryos.in.dish</th><th scope=col>Max..developmental.stage.reached</th></tr>\n",
       "\t<tr><th scope=col>&lt;dbl&gt;</th><th scope=col>&lt;dbl&gt;</th><th scope=col>&lt;chr&gt;</th></tr>\n",
       "</thead>\n",
       "<tbody>\n",
       "\t<tr><td>18</td><td>13</td><td>7 to 8</td></tr>\n",
       "\t<tr><td>18</td><td>28</td><td>7 to 8</td></tr>\n",
       "\t<tr><td>18</td><td>30</td><td>N/A   </td></tr>\n",
       "\t<tr><td>⋮</td><td>⋮</td><td>⋮</td></tr>\n",
       "\t<tr><td>23</td><td>33</td><td>7 to 8</td></tr>\n",
       "\t<tr><td>NA</td><td>NA</td><td>NA    </td></tr>\n",
       "\t<tr><td>NA</td><td>NA</td><td>NA    </td></tr>\n",
       "</tbody>\n",
       "</table>\n"
      ],
      "text/latex": [
       "A tibble: 71 × 3\n",
       "\\begin{tabular}{lll}\n",
       " Incubation.temperature & Total...embryos.in.dish & Max..developmental.stage.reached\\\\\n",
       " <dbl> & <dbl> & <chr>\\\\\n",
       "\\hline\n",
       "\t 18 & 13 & 7 to 8\\\\\n",
       "\t 18 & 28 & 7 to 8\\\\\n",
       "\t 18 & 30 & N/A   \\\\\n",
       "\t ⋮ & ⋮ & ⋮\\\\\n",
       "\t 23 & 33 & 7 to 8\\\\\n",
       "\t NA & NA & NA    \\\\\n",
       "\t NA & NA & NA    \\\\\n",
       "\\end{tabular}\n"
      ],
      "text/markdown": [
       "\n",
       "A tibble: 71 × 3\n",
       "\n",
       "| Incubation.temperature &lt;dbl&gt; | Total...embryos.in.dish &lt;dbl&gt; | Max..developmental.stage.reached &lt;chr&gt; |\n",
       "|---|---|---|\n",
       "| 18 | 13 | 7 to 8 |\n",
       "| 18 | 28 | 7 to 8 |\n",
       "| 18 | 30 | N/A    |\n",
       "| ⋮ | ⋮ | ⋮ |\n",
       "| 23 | 33 | 7 to 8 |\n",
       "| NA | NA | NA     |\n",
       "| NA | NA | NA     |\n",
       "\n"
      ],
      "text/plain": [
       "   Incubation.temperature Total...embryos.in.dish\n",
       "1  18                     13                     \n",
       "2  18                     28                     \n",
       "3  18                     30                     \n",
       "⋮  ⋮                      ⋮                      \n",
       "69 23                     33                     \n",
       "70 NA                     NA                     \n",
       "71 NA                     NA                     \n",
       "   Max..developmental.stage.reached\n",
       "1  7 to 8                          \n",
       "2  7 to 8                          \n",
       "3  N/A                             \n",
       "⋮  ⋮                               \n",
       "69 7 to 8                          \n",
       "70 NA                              \n",
       "71 NA                              "
      ]
     },
     "metadata": {},
     "output_type": "display_data"
    },
    {
     "data": {
      "text/html": [
       "<table class=\"dataframe\">\n",
       "<caption>A tibble: 3 × 2</caption>\n",
       "<thead>\n",
       "\t<tr><th scope=col>Incubation.temperature</th><th scope=col>sum</th></tr>\n",
       "\t<tr><th scope=col>&lt;dbl&gt;</th><th scope=col>&lt;dbl&gt;</th></tr>\n",
       "</thead>\n",
       "<tbody>\n",
       "\t<tr><td>18</td><td>571</td></tr>\n",
       "\t<tr><td>23</td><td>543</td></tr>\n",
       "\t<tr><td>NA</td><td> NA</td></tr>\n",
       "</tbody>\n",
       "</table>\n"
      ],
      "text/latex": [
       "A tibble: 3 × 2\n",
       "\\begin{tabular}{ll}\n",
       " Incubation.temperature & sum\\\\\n",
       " <dbl> & <dbl>\\\\\n",
       "\\hline\n",
       "\t 18 & 571\\\\\n",
       "\t 23 & 543\\\\\n",
       "\t NA &  NA\\\\\n",
       "\\end{tabular}\n"
      ],
      "text/markdown": [
       "\n",
       "A tibble: 3 × 2\n",
       "\n",
       "| Incubation.temperature &lt;dbl&gt; | sum &lt;dbl&gt; |\n",
       "|---|---|\n",
       "| 18 | 571 |\n",
       "| 23 | 543 |\n",
       "| NA |  NA |\n",
       "\n"
      ],
      "text/plain": [
       "  Incubation.temperature sum\n",
       "1 18                     571\n",
       "2 23                     543\n",
       "3 NA                      NA"
      ]
     },
     "metadata": {},
     "output_type": "display_data"
    },
    {
     "name": "stderr",
     "output_type": "stream",
     "text": [
      "\u001b[1m\u001b[22m`summarise()` has grouped output by 'Incubation.temperature'. You can override\n",
      "using the `.groups` argument.\n"
     ]
    },
    {
     "data": {
      "text/html": [
       "<table class=\"dataframe\">\n",
       "<caption>A grouped_df: 5 × 3</caption>\n",
       "<thead>\n",
       "\t<tr><th scope=col>Incubation.temperature</th><th scope=col>Max..developmental.stage.reached</th><th scope=col>sum</th></tr>\n",
       "\t<tr><th scope=col>&lt;dbl&gt;</th><th scope=col>&lt;chr&gt;</th><th scope=col>&lt;dbl&gt;</th></tr>\n",
       "</thead>\n",
       "<tbody>\n",
       "\t<tr><td>18</td><td>7 to 8</td><td>527</td></tr>\n",
       "\t<tr><td>18</td><td>N/A   </td><td> 44</td></tr>\n",
       "\t<tr><td>23</td><td>7 to 8</td><td>501</td></tr>\n",
       "\t<tr><td>23</td><td>N/A   </td><td> 42</td></tr>\n",
       "\t<tr><td>NA</td><td>NA    </td><td> NA</td></tr>\n",
       "</tbody>\n",
       "</table>\n"
      ],
      "text/latex": [
       "A grouped\\_df: 5 × 3\n",
       "\\begin{tabular}{lll}\n",
       " Incubation.temperature & Max..developmental.stage.reached & sum\\\\\n",
       " <dbl> & <chr> & <dbl>\\\\\n",
       "\\hline\n",
       "\t 18 & 7 to 8 & 527\\\\\n",
       "\t 18 & N/A    &  44\\\\\n",
       "\t 23 & 7 to 8 & 501\\\\\n",
       "\t 23 & N/A    &  42\\\\\n",
       "\t NA & NA     &  NA\\\\\n",
       "\\end{tabular}\n"
      ],
      "text/markdown": [
       "\n",
       "A grouped_df: 5 × 3\n",
       "\n",
       "| Incubation.temperature &lt;dbl&gt; | Max..developmental.stage.reached &lt;chr&gt; | sum &lt;dbl&gt; |\n",
       "|---|---|---|\n",
       "| 18 | 7 to 8 | 527 |\n",
       "| 18 | N/A    |  44 |\n",
       "| 23 | 7 to 8 | 501 |\n",
       "| 23 | N/A    |  42 |\n",
       "| NA | NA     |  NA |\n",
       "\n"
      ],
      "text/plain": [
       "  Incubation.temperature Max..developmental.stage.reached sum\n",
       "1 18                     7 to 8                           527\n",
       "2 18                     N/A                               44\n",
       "3 23                     7 to 8                           501\n",
       "4 23                     N/A                               42\n",
       "5 NA                     NA                                NA"
      ]
     },
     "metadata": {},
     "output_type": "display_data"
    }
   ],
   "source": [
    "data2<-read_csv(\"data/data2.csv\", skip=1)\n",
    " colnames(data2)<-make.names(colnames(data2))\n",
    "data2<-data2|>\n",
    "    select(Incubation.temperature, Total...embryos.in.dish, Max..developmental.stage.reached)|>\n",
    "        mutate(Total...embryos.in.dish=as.numeric(Total...embryos.in.dish))\n",
    "data2\n",
    "a<-data2|>group_by(Incubation.temperature)|>summarize(sum=sum(Total...embryos.in.dish))\n",
    "a\n",
    "\n",
    "data22<-data2|> group_by(Incubation.temperature,Max..developmental.stage.reached)|>\n",
    "summarize(sum=sum(Total...embryos.in.dish))\n",
    "data22\n"
   ]
  },
  {
   "cell_type": "code",
   "execution_count": 45,
   "id": "e777d9ed-75bc-4d07-9de4-00880108c1af",
   "metadata": {},
   "outputs": [
    {
     "name": "stderr",
     "output_type": "stream",
     "text": [
      "\u001b[1m\u001b[22mNew names:\n",
      "\u001b[36m•\u001b[39m `` -> `...8`\n",
      "\u001b[36m•\u001b[39m `` -> `...9`\n",
      "\u001b[36m•\u001b[39m `` -> `...10`\n",
      "\u001b[36m•\u001b[39m `` -> `...11`\n",
      "\u001b[1mRows: \u001b[22m\u001b[34m39\u001b[39m \u001b[1mColumns: \u001b[22m\u001b[34m11\u001b[39m\n",
      "\u001b[36m──\u001b[39m \u001b[1mColumn specification\u001b[22m \u001b[36m────────────────────────────────────────────────────────\u001b[39m\n",
      "\u001b[1mDelimiter:\u001b[22m \",\"\n",
      "\u001b[31mchr\u001b[39m (6): Lab section, Time of observation, Max. developmental stage reached,...\n",
      "\u001b[32mdbl\u001b[39m (2): Incubation temperature, Total # embryos at each stage\n",
      "\u001b[33mlgl\u001b[39m (3): ...9, ...10, ...11\n",
      "\n",
      "\u001b[36mℹ\u001b[39m Use `spec()` to retrieve the full column specification for this data.\n",
      "\u001b[36mℹ\u001b[39m Specify the column types or set `show_col_types = FALSE` to quiet this message.\n"
     ]
    },
    {
     "data": {
      "text/html": [
       "<table class=\"dataframe\">\n",
       "<caption>A tibble: 39 × 4</caption>\n",
       "<thead>\n",
       "\t<tr><th scope=col>Time.of.observation</th><th scope=col>Incubation.temperature</th><th scope=col>Total...embryos.at.each.stage</th><th scope=col>Max..developmental.stage.reached</th></tr>\n",
       "\t<tr><th scope=col>&lt;chr&gt;</th><th scope=col>&lt;dbl&gt;</th><th scope=col>&lt;dbl&gt;</th><th scope=col>&lt;chr&gt;</th></tr>\n",
       "</thead>\n",
       "<tbody>\n",
       "\t<tr><td>24 hrs post-fertilization (p.f.)</td><td>18</td><td> 5</td><td>11 to 11.5</td></tr>\n",
       "\t<tr><td>24 hrs p.f.                     </td><td>18</td><td>21</td><td>12 to 12.5</td></tr>\n",
       "\t<tr><td>24 hrs p.f.                     </td><td>23</td><td> 6</td><td>19 to 20  </td></tr>\n",
       "\t<tr><td>⋮</td><td>⋮</td><td>⋮</td><td>⋮</td></tr>\n",
       "\t<tr><td>NA</td><td>NA</td><td>NA</td><td>NA</td></tr>\n",
       "\t<tr><td>NA</td><td>NA</td><td>NA</td><td>NA</td></tr>\n",
       "\t<tr><td>NA</td><td>NA</td><td>NA</td><td>NA</td></tr>\n",
       "</tbody>\n",
       "</table>\n"
      ],
      "text/latex": [
       "A tibble: 39 × 4\n",
       "\\begin{tabular}{llll}\n",
       " Time.of.observation & Incubation.temperature & Total...embryos.at.each.stage & Max..developmental.stage.reached\\\\\n",
       " <chr> & <dbl> & <dbl> & <chr>\\\\\n",
       "\\hline\n",
       "\t 24 hrs post-fertilization (p.f.) & 18 &  5 & 11 to 11.5\\\\\n",
       "\t 24 hrs p.f.                      & 18 & 21 & 12 to 12.5\\\\\n",
       "\t 24 hrs p.f.                      & 23 &  6 & 19 to 20  \\\\\n",
       "\t ⋮ & ⋮ & ⋮ & ⋮\\\\\n",
       "\t NA & NA & NA & NA\\\\\n",
       "\t NA & NA & NA & NA\\\\\n",
       "\t NA & NA & NA & NA\\\\\n",
       "\\end{tabular}\n"
      ],
      "text/markdown": [
       "\n",
       "A tibble: 39 × 4\n",
       "\n",
       "| Time.of.observation &lt;chr&gt; | Incubation.temperature &lt;dbl&gt; | Total...embryos.at.each.stage &lt;dbl&gt; | Max..developmental.stage.reached &lt;chr&gt; |\n",
       "|---|---|---|---|\n",
       "| 24 hrs post-fertilization (p.f.) | 18 |  5 | 11 to 11.5 |\n",
       "| 24 hrs p.f.                      | 18 | 21 | 12 to 12.5 |\n",
       "| 24 hrs p.f.                      | 23 |  6 | 19 to 20   |\n",
       "| ⋮ | ⋮ | ⋮ | ⋮ |\n",
       "| NA | NA | NA | NA |\n",
       "| NA | NA | NA | NA |\n",
       "| NA | NA | NA | NA |\n",
       "\n"
      ],
      "text/plain": [
       "   Time.of.observation              Incubation.temperature\n",
       "1  24 hrs post-fertilization (p.f.) 18                    \n",
       "2  24 hrs p.f.                      18                    \n",
       "3  24 hrs p.f.                      23                    \n",
       "⋮  ⋮                                ⋮                     \n",
       "37 NA                               NA                    \n",
       "38 NA                               NA                    \n",
       "39 NA                               NA                    \n",
       "   Total...embryos.at.each.stage Max..developmental.stage.reached\n",
       "1   5                            11 to 11.5                      \n",
       "2  21                            12 to 12.5                      \n",
       "3   6                            19 to 20                        \n",
       "⋮  ⋮                             ⋮                               \n",
       "37 NA                            NA                              \n",
       "38 NA                            NA                              \n",
       "39 NA                            NA                              "
      ]
     },
     "metadata": {},
     "output_type": "display_data"
    }
   ],
   "source": [
    "data3<-read_csv(\"data/data3.csv\", skip=1)\n",
    " colnames(data3)<-make.names(colnames(data3))\n",
    "data3<-data3|>select(Time.of.observation:Max..developmental.stage.reached)\n",
    "data3\n",
    "#b<-data3|>group_by(Incubation.temperature)|>summarize(sum=sum(Total...embryos.at.each.stage))\n",
    "#b\n",
    "#data33<-data3|> group_by(Incubation.temperature,Max..developmental.stage.reached)|>\n",
    "#summarize(sum=sum(Total...embryos.in.dish))\n",
    "#data33\n",
    "\n",
    "#data333<-data3|> mutate(Max..developmental.stage.reached = stringr::str_remove(Max..developmental.stage.reached, pattern = \"\\\\s\"))\n",
    "#group_by(Max..developmental.stage.reached)|>summarize(sum=sum(Total...embryos.in.dish))\n",
    "#data333\n",
    "\n"
   ]
  },
  {
   "cell_type": "code",
   "execution_count": 60,
   "id": "4c4fbe82-f080-415c-8c30-d23c8e1d2c96",
   "metadata": {},
   "outputs": [
    {
     "data": {
      "text/html": [
       "<table class=\"dataframe\">\n",
       "<caption>A tibble: 39 × 4</caption>\n",
       "<thead>\n",
       "\t<tr><th scope=col>Time.of.observation</th><th scope=col>Incubation.temperature</th><th scope=col>Total...embryos.at.each.stage</th><th scope=col>Max..developmental.stage.reached</th></tr>\n",
       "\t<tr><th scope=col>&lt;chr&gt;</th><th scope=col>&lt;dbl&gt;</th><th scope=col>&lt;dbl&gt;</th><th scope=col>&lt;chr&gt;</th></tr>\n",
       "</thead>\n",
       "<tbody>\n",
       "\t<tr><td>24 hrs post-fertilization (p.f.)</td><td>18</td><td> 5</td><td>11to11.5</td></tr>\n",
       "\t<tr><td>24 hrs p.f.                     </td><td>18</td><td>21</td><td>12to12.5</td></tr>\n",
       "\t<tr><td>24 hrs p.f.                     </td><td>23</td><td> 6</td><td>19to20  </td></tr>\n",
       "\t<tr><td>⋮</td><td>⋮</td><td>⋮</td><td>⋮</td></tr>\n",
       "\t<tr><td>NA</td><td>NA</td><td>NA</td><td>NA</td></tr>\n",
       "\t<tr><td>NA</td><td>NA</td><td>NA</td><td>NA</td></tr>\n",
       "\t<tr><td>NA</td><td>NA</td><td>NA</td><td>NA</td></tr>\n",
       "</tbody>\n",
       "</table>\n"
      ],
      "text/latex": [
       "A tibble: 39 × 4\n",
       "\\begin{tabular}{llll}\n",
       " Time.of.observation & Incubation.temperature & Total...embryos.at.each.stage & Max..developmental.stage.reached\\\\\n",
       " <chr> & <dbl> & <dbl> & <chr>\\\\\n",
       "\\hline\n",
       "\t 24 hrs post-fertilization (p.f.) & 18 &  5 & 11to11.5\\\\\n",
       "\t 24 hrs p.f.                      & 18 & 21 & 12to12.5\\\\\n",
       "\t 24 hrs p.f.                      & 23 &  6 & 19to20  \\\\\n",
       "\t ⋮ & ⋮ & ⋮ & ⋮\\\\\n",
       "\t NA & NA & NA & NA\\\\\n",
       "\t NA & NA & NA & NA\\\\\n",
       "\t NA & NA & NA & NA\\\\\n",
       "\\end{tabular}\n"
      ],
      "text/markdown": [
       "\n",
       "A tibble: 39 × 4\n",
       "\n",
       "| Time.of.observation &lt;chr&gt; | Incubation.temperature &lt;dbl&gt; | Total...embryos.at.each.stage &lt;dbl&gt; | Max..developmental.stage.reached &lt;chr&gt; |\n",
       "|---|---|---|---|\n",
       "| 24 hrs post-fertilization (p.f.) | 18 |  5 | 11to11.5 |\n",
       "| 24 hrs p.f.                      | 18 | 21 | 12to12.5 |\n",
       "| 24 hrs p.f.                      | 23 |  6 | 19to20   |\n",
       "| ⋮ | ⋮ | ⋮ | ⋮ |\n",
       "| NA | NA | NA | NA |\n",
       "| NA | NA | NA | NA |\n",
       "| NA | NA | NA | NA |\n",
       "\n"
      ],
      "text/plain": [
       "   Time.of.observation              Incubation.temperature\n",
       "1  24 hrs post-fertilization (p.f.) 18                    \n",
       "2  24 hrs p.f.                      18                    \n",
       "3  24 hrs p.f.                      23                    \n",
       "⋮  ⋮                                ⋮                     \n",
       "37 NA                               NA                    \n",
       "38 NA                               NA                    \n",
       "39 NA                               NA                    \n",
       "   Total...embryos.at.each.stage Max..developmental.stage.reached\n",
       "1   5                            11to11.5                        \n",
       "2  21                            12to12.5                        \n",
       "3   6                            19to20                          \n",
       "⋮  ⋮                             ⋮                               \n",
       "37 NA                            NA                              \n",
       "38 NA                            NA                              \n",
       "39 NA                            NA                              "
      ]
     },
     "metadata": {},
     "output_type": "display_data"
    },
    {
     "name": "stderr",
     "output_type": "stream",
     "text": [
      "\u001b[1m\u001b[22m`summarise()` has grouped output by 'Max..developmental.stage.reached'. You can\n",
      "override using the `.groups` argument.\n"
     ]
    },
    {
     "data": {
      "text/html": [
       "<table class=\"dataframe\">\n",
       "<caption>A grouped_df: 11 × 3</caption>\n",
       "<thead>\n",
       "\t<tr><th scope=col>Max..developmental.stage.reached</th><th scope=col>Incubation.temperature</th><th scope=col>sum</th></tr>\n",
       "\t<tr><th scope=col>&lt;chr&gt;</th><th scope=col>&lt;dbl&gt;</th><th scope=col>&lt;dbl&gt;</th></tr>\n",
       "</thead>\n",
       "<tbody>\n",
       "\t<tr><td>11to11.5</td><td>18</td><td> 5</td></tr>\n",
       "\t<tr><td>12to12.5</td><td>18</td><td>21</td></tr>\n",
       "\t<tr><td>18to19  </td><td>18</td><td> 2</td></tr>\n",
       "\t<tr><td>⋮</td><td>⋮</td><td>⋮</td></tr>\n",
       "\t<tr><td>33to35</td><td>23</td><td>11</td></tr>\n",
       "\t<tr><td>42    </td><td>23</td><td> 6</td></tr>\n",
       "\t<tr><td>NA    </td><td>NA</td><td>NA</td></tr>\n",
       "</tbody>\n",
       "</table>\n"
      ],
      "text/latex": [
       "A grouped\\_df: 11 × 3\n",
       "\\begin{tabular}{lll}\n",
       " Max..developmental.stage.reached & Incubation.temperature & sum\\\\\n",
       " <chr> & <dbl> & <dbl>\\\\\n",
       "\\hline\n",
       "\t 11to11.5 & 18 &  5\\\\\n",
       "\t 12to12.5 & 18 & 21\\\\\n",
       "\t 18to19   & 18 &  2\\\\\n",
       "\t ⋮ & ⋮ & ⋮\\\\\n",
       "\t 33to35 & 23 & 11\\\\\n",
       "\t 42     & 23 &  6\\\\\n",
       "\t NA     & NA & NA\\\\\n",
       "\\end{tabular}\n"
      ],
      "text/markdown": [
       "\n",
       "A grouped_df: 11 × 3\n",
       "\n",
       "| Max..developmental.stage.reached &lt;chr&gt; | Incubation.temperature &lt;dbl&gt; | sum &lt;dbl&gt; |\n",
       "|---|---|---|\n",
       "| 11to11.5 | 18 |  5 |\n",
       "| 12to12.5 | 18 | 21 |\n",
       "| 18to19   | 18 |  2 |\n",
       "| ⋮ | ⋮ | ⋮ |\n",
       "| 33to35 | 23 | 11 |\n",
       "| 42     | 23 |  6 |\n",
       "| NA     | NA | NA |\n",
       "\n"
      ],
      "text/plain": [
       "   Max..developmental.stage.reached Incubation.temperature sum\n",
       "1  11to11.5                         18                      5 \n",
       "2  12to12.5                         18                     21 \n",
       "3  18to19                           18                      2 \n",
       "⋮  ⋮                                ⋮                      ⋮  \n",
       "9  33to35                           23                     11 \n",
       "10 42                               23                      6 \n",
       "11 NA                               NA                     NA "
      ]
     },
     "metadata": {},
     "output_type": "display_data"
    }
   ],
   "source": [
    "data333<-data3|> mutate(Max..developmental.stage.reached = stringr::str_remove(Max..developmental.stage.reached, pattern = \"\\\\s\"))\n",
    "#group_by(Max..developmental.stage.reached)|>summarize(sum=sum(Total...embryos.in.dish))\n",
    "\n",
    "data333<-data333|> mutate(Max..developmental.stage.reached = stringr::str_remove(Max..developmental.stage.reached, pattern = \"\\\\s\"))\n",
    "#group_by(Max..developmental.stage.reached)|>summarize(sum=sum(Total...embryos.in.dish))\n",
    "data333\n",
    "\n",
    "data34<-data333|> group_by(Max..developmental.stage.reached,Incubation.temperature)|>\n",
    "summarize(sum=sum(Total...embryos.at.each.stage))#|>\n",
    "#filter(Max..developmental.stage.reached != NA)\n",
    "data34"
   ]
  },
  {
   "cell_type": "markdown",
   "id": "70e76161-85a3-4904-bbbe-8dcfab716a90",
   "metadata": {},
   "source": [
    "pearson chi sq contengency table"
   ]
  },
  {
   "cell_type": "code",
   "execution_count": 39,
   "id": "24e6b731-60aa-4bb7-8ffd-d40d81f413d5",
   "metadata": {},
   "outputs": [
    {
     "data": {
      "text/html": [
       "<table class=\"dataframe\">\n",
       "<caption>A matrix: 2 × 3 of type chr</caption>\n",
       "<thead>\n",
       "\t<tr><th scope=col>Temprature</th><th scope=col>Lost</th><th scope=col>Alive</th></tr>\n",
       "</thead>\n",
       "<tbody>\n",
       "\t<tr><td>18C</td><td>571</td><td>26</td></tr>\n",
       "\t<tr><td>23C</td><td>543</td><td>17</td></tr>\n",
       "</tbody>\n",
       "</table>\n"
      ],
      "text/latex": [
       "A matrix: 2 × 3 of type chr\n",
       "\\begin{tabular}{lll}\n",
       " Temprature & Lost & Alive\\\\\n",
       "\\hline\n",
       "\t 18C & 571 & 26\\\\\n",
       "\t 23C & 543 & 17\\\\\n",
       "\\end{tabular}\n"
      ],
      "text/markdown": [
       "\n",
       "A matrix: 2 × 3 of type chr\n",
       "\n",
       "| Temprature | Lost | Alive |\n",
       "|---|---|---|\n",
       "| 18C | 571 | 26 |\n",
       "| 23C | 543 | 17 |\n",
       "\n"
      ],
      "text/plain": [
       "     Temprature Lost Alive\n",
       "[1,] 18C        571  26   \n",
       "[2,] 23C        543  17   "
      ]
     },
     "metadata": {},
     "output_type": "display_data"
    },
    {
     "data": {
      "text/html": [
       "<table class=\"dataframe\">\n",
       "<caption>A data.frame: 2 × 4</caption>\n",
       "<thead>\n",
       "\t<tr><th scope=col>Temprature</th><th scope=col>Lost.</th><th scope=col>Alive.</th><th scope=col>Total</th></tr>\n",
       "\t<tr><th scope=col>&lt;chr&gt;</th><th scope=col>&lt;dbl&gt;</th><th scope=col>&lt;dbl&gt;</th><th scope=col>&lt;dbl&gt;</th></tr>\n",
       "</thead>\n",
       "<tbody>\n",
       "\t<tr><td>18C</td><td>0.9564489</td><td>0.04355109</td><td>597</td></tr>\n",
       "\t<tr><td>23C</td><td>0.9696429</td><td>0.03035714</td><td>560</td></tr>\n",
       "</tbody>\n",
       "</table>\n"
      ],
      "text/latex": [
       "A data.frame: 2 × 4\n",
       "\\begin{tabular}{llll}\n",
       " Temprature & Lost. & Alive. & Total\\\\\n",
       " <chr> & <dbl> & <dbl> & <dbl>\\\\\n",
       "\\hline\n",
       "\t 18C & 0.9564489 & 0.04355109 & 597\\\\\n",
       "\t 23C & 0.9696429 & 0.03035714 & 560\\\\\n",
       "\\end{tabular}\n"
      ],
      "text/markdown": [
       "\n",
       "A data.frame: 2 × 4\n",
       "\n",
       "| Temprature &lt;chr&gt; | Lost. &lt;dbl&gt; | Alive. &lt;dbl&gt; | Total &lt;dbl&gt; |\n",
       "|---|---|---|---|\n",
       "| 18C | 0.9564489 | 0.04355109 | 597 |\n",
       "| 23C | 0.9696429 | 0.03035714 | 560 |\n",
       "\n"
      ],
      "text/plain": [
       "  Temprature Lost.     Alive.     Total\n",
       "1 18C        0.9564489 0.04355109 597  \n",
       "2 23C        0.9696429 0.03035714 560  "
      ]
     },
     "metadata": {},
     "output_type": "display_data"
    },
    {
     "data": {
      "text/plain": [
       "\n",
       "\tPearson's Chi-squared test\n",
       "\n",
       "data:  datatable\n",
       "X-squared = 1.4057, df = 1, p-value = 0.2358\n"
      ]
     },
     "metadata": {},
     "output_type": "display_data"
    }
   ],
   "source": [
    "df<-data.frame(\n",
    "    \"Temprature\"=c(\"18C\",\"23C\"),\n",
    "    \"Lost\"=c(571,543),\n",
    "    \"Alive\"=c(26,17)\n",
    "    )\n",
    "\n",
    "\n",
    "df2<-data.frame(\n",
    "    \"Temprature\"=c(\"18C\",\"23C\"),\n",
    "    \"Lost%\"=c(571/597,543/560),\n",
    "    \"Alive%\"=c(26/597,17/560),\n",
    "    \"Total\"=c(597,560)\n",
    "    )\n",
    "\n",
    "modifiedDf<-as.matrix(df)\n",
    "modifiedDf\n",
    "df2\n",
    "datatable <- matrix(c(571,543,26,17),nrow=2,ncol=2)\n",
    "\n",
    "#datatable\n",
    "chisq.test(datatable,correct=FALSE)\n",
    "\n",
    "#table<-as.table(modifiedDf)\n",
    "#modifiedDf\n",
    "#table\n",
    "\n",
    "#mosaicplot(table)\n",
    "#chisq.test(table)"
   ]
  },
  {
   "cell_type": "code",
   "execution_count": 40,
   "id": "dc8b9fb8-123b-4d7e-9663-f0abbcd8e4ed",
   "metadata": {},
   "outputs": [
    {
     "ename": "ERROR",
     "evalue": "Error in parse(text = x, srcfile = src): <text>:1:11: unexpected symbol\n1: different degrees\n              ^\n",
     "output_type": "error",
     "traceback": [
      "Error in parse(text = x, srcfile = src): <text>:1:11: unexpected symbol\n1: different degrees\n              ^\nTraceback:\n"
     ]
    }
   ],
   "source": [
    "different degrees do not affect the death rate "
   ]
  },
  {
   "cell_type": "code",
   "execution_count": null,
   "id": "8704bd6b-2d14-4b28-bd88-8fe312c2b7c7",
   "metadata": {},
   "outputs": [],
   "source": []
  },
  {
   "cell_type": "code",
   "execution_count": 41,
   "id": "29d73329-4364-49cf-a9d3-adf7eae9dfd3",
   "metadata": {},
   "outputs": [
    {
     "ename": "ERROR",
     "evalue": "Error in parse(text = x, srcfile = src): <text>:1:9: unexpected symbol\n1: xompare to\n            ^\n",
     "output_type": "error",
     "traceback": [
      "Error in parse(text = x, srcfile = src): <text>:1:9: unexpected symbol\n1: xompare to\n            ^\nTraceback:\n"
     ]
    }
   ],
   "source": [
    "xompare to normal development and say how much faster it is \n",
    "higher developmental rate \n"
   ]
  },
  {
   "cell_type": "code",
   "execution_count": null,
   "id": "59d812ae-292f-4477-a5cf-e9a459c1c69b",
   "metadata": {},
   "outputs": [],
   "source": []
  }
 ],
 "metadata": {
  "kernelspec": {
   "display_name": "R",
   "language": "R",
   "name": "ir"
  },
  "language_info": {
   "codemirror_mode": "r",
   "file_extension": ".r",
   "mimetype": "text/x-r-source",
   "name": "R",
   "pygments_lexer": "r",
   "version": "4.2.2"
  }
 },
 "nbformat": 4,
 "nbformat_minor": 5
}
