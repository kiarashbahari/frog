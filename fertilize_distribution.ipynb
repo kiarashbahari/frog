{
 "cells": [
  {
   "cell_type": "code",
   "execution_count": 1,
   "id": "bd67a586-86f3-4a31-ac31-bc92d331818f",
   "metadata": {},
   "outputs": [
    {
     "name": "stderr",
     "output_type": "stream",
     "text": [
      "Warning message in system(\"timedatectl\", intern = TRUE):\n",
      "“running command 'timedatectl' had status 1”\n",
      "── \u001b[1mAttaching packages\u001b[22m ─────────────────────────────────────── tidyverse 1.3.2 ──\n",
      "\u001b[32m✔\u001b[39m \u001b[34mggplot2\u001b[39m 3.4.0      \u001b[32m✔\u001b[39m \u001b[34mpurrr  \u001b[39m 1.0.0 \n",
      "\u001b[32m✔\u001b[39m \u001b[34mtibble \u001b[39m 3.1.8      \u001b[32m✔\u001b[39m \u001b[34mdplyr  \u001b[39m 1.0.10\n",
      "\u001b[32m✔\u001b[39m \u001b[34mtidyr  \u001b[39m 1.2.1      \u001b[32m✔\u001b[39m \u001b[34mstringr\u001b[39m 1.5.0 \n",
      "\u001b[32m✔\u001b[39m \u001b[34mreadr  \u001b[39m 2.1.3      \u001b[32m✔\u001b[39m \u001b[34mforcats\u001b[39m 0.5.2 \n",
      "── \u001b[1mConflicts\u001b[22m ────────────────────────────────────────── tidyverse_conflicts() ──\n",
      "\u001b[31m✖\u001b[39m \u001b[34mdplyr\u001b[39m::\u001b[32mfilter()\u001b[39m masks \u001b[34mstats\u001b[39m::filter()\n",
      "\u001b[31m✖\u001b[39m \u001b[34mdplyr\u001b[39m::\u001b[32mlag()\u001b[39m    masks \u001b[34mstats\u001b[39m::lag()\n"
     ]
    }
   ],
   "source": [
    "library(tidyverse)\n",
    "library(repr)\n",
    "options(repr.matrix.max.rows = 6)"
   ]
  },
  {
   "cell_type": "code",
   "execution_count": 2,
   "id": "e939b8f0-4ba4-4ea8-9706-c346c40c029a",
   "metadata": {},
   "outputs": [
    {
     "name": "stderr",
     "output_type": "stream",
     "text": [
      "\u001b[1m\u001b[22mNew names:\n",
      "\u001b[36m•\u001b[39m `Total # eggs` -> `Total # eggs...3`\n",
      "\u001b[36m•\u001b[39m `Total # eggs fertilized` -> `Total # eggs fertilized...4`\n",
      "\u001b[36m•\u001b[39m `Features of fertilization` -> `Features of fertilization...5`\n",
      "\u001b[36m•\u001b[39m `% fertilization` -> `% fertilization...6`\n",
      "\u001b[36m•\u001b[39m `` -> `...7`\n",
      "\u001b[36m•\u001b[39m `Total # eggs` -> `Total # eggs...8`\n",
      "\u001b[36m•\u001b[39m `Total # eggs fertilized` -> `Total # eggs fertilized...9`\n",
      "\u001b[36m•\u001b[39m `Features of fertilization` -> `Features of fertilization...10`\n",
      "\u001b[36m•\u001b[39m `% fertilization` -> `% fertilization...15`\n",
      "\u001b[36m•\u001b[39m `` -> `...16`\n",
      "\u001b[36m•\u001b[39m `` -> `...17`\n",
      "\u001b[1mRows: \u001b[22m\u001b[34m83\u001b[39m \u001b[1mColumns: \u001b[22m\u001b[34m19\u001b[39m\n",
      "\u001b[36m──\u001b[39m \u001b[1mColumn specification\u001b[22m \u001b[36m────────────────────────────────────────────────────────\u001b[39m\n",
      "\u001b[1mDelimiter:\u001b[22m \",\"\n",
      "\u001b[31mchr\u001b[39m  (6): Student ID, Total # eggs...3, Features of fertilization...5, % fer...\n",
      "\u001b[32mdbl\u001b[39m (10): Total magnification, Total # eggs fertilized...4, Total # eggs...8...\n",
      "\u001b[33mlgl\u001b[39m  (3): ...7, Total eggs at 8-cell stage, ...16\n",
      "\n",
      "\u001b[36mℹ\u001b[39m Use `spec()` to retrieve the full column specification for this data.\n",
      "\u001b[36mℹ\u001b[39m Specify the column types or set `show_col_types = FALSE` to quiet this message.\n"
     ]
    },
    {
     "data": {
      "text/html": [
       "<table class=\"dataframe\">\n",
       "<caption>A spec_tbl_df: 83 × 19</caption>\n",
       "<thead>\n",
       "\t<tr><th scope=col>Student ID</th><th scope=col>Total magnification</th><th scope=col>Total # eggs...3</th><th scope=col>Total # eggs fertilized...4</th><th scope=col>Features of fertilization...5</th><th scope=col>% fertilization...6</th><th scope=col>...7</th><th scope=col>Total # eggs...8</th><th scope=col>Total # eggs fertilized...9</th><th scope=col>Features of fertilization...10</th><th scope=col>Total eggs with cleavage furrow</th><th scope=col>Total eggs at 2-cell stage</th><th scope=col>Total eggs at 4-cell stage</th><th scope=col>Total eggs at 8-cell stage</th><th scope=col>% fertilization...15</th><th scope=col>...16</th><th scope=col>...17</th><th scope=col>fertpre</th><th scope=col>fertpost</th></tr>\n",
       "\t<tr><th scope=col>&lt;chr&gt;</th><th scope=col>&lt;dbl&gt;</th><th scope=col>&lt;chr&gt;</th><th scope=col>&lt;dbl&gt;</th><th scope=col>&lt;chr&gt;</th><th scope=col>&lt;chr&gt;</th><th scope=col>&lt;lgl&gt;</th><th scope=col>&lt;dbl&gt;</th><th scope=col>&lt;dbl&gt;</th><th scope=col>&lt;chr&gt;</th><th scope=col>&lt;dbl&gt;</th><th scope=col>&lt;dbl&gt;</th><th scope=col>&lt;dbl&gt;</th><th scope=col>&lt;lgl&gt;</th><th scope=col>&lt;chr&gt;</th><th scope=col>&lt;lgl&gt;</th><th scope=col>&lt;dbl&gt;</th><th scope=col>&lt;dbl&gt;</th><th scope=col>&lt;dbl&gt;</th></tr>\n",
       "</thead>\n",
       "<tbody>\n",
       "\t<tr><td>1</td><td>12.5</td><td>20</td><td>11</td><td><span style=white-space:pre-wrap>- dark spot -&gt; sperm entry\n",
       "- animal pole facing up                       </span></td><td><span style=white-space:pre-wrap>55         </span></td><td>NA</td><td> 9</td><td> 4</td><td>- dark spot -&gt; sperm entry\n",
       "- animal pole facing up\n",
       "- cleavage</td><td>NA</td><td>1</td><td>0</td><td>NA</td><td>44.44444444</td><td>NA</td><td>NA</td><td>0.5500000</td><td>0.4444444</td></tr>\n",
       "\t<tr><td>2</td><td>12.5</td><td>13</td><td> 6</td><td><span style=white-space:pre-wrap>- dark spot -&gt; sperm entry\n",
       "- animal pole facing up                       </span></td><td>46.15384615</td><td>NA</td><td>28</td><td>17</td><td>- dark spot -&gt; sperm entry\n",
       "- animal pole facing up\n",
       "- cleavage</td><td>NA</td><td>2</td><td>1</td><td>NA</td><td>60.71428571</td><td>NA</td><td>NA</td><td>0.4615385</td><td>0.6071429</td></tr>\n",
       "\t<tr><td>3</td><td>12.5</td><td>5 </td><td> 0</td><td>cleavage furrow, fertilization envelope, 2 cell stage, orientation, colour</td><td>0          </td><td>NA</td><td>10</td><td> 0</td><td>NA                                                             </td><td> 0</td><td>0</td><td>0</td><td>NA</td><td>0.00%      </td><td>NA</td><td>NA</td><td>0.0000000</td><td>0.0000000</td></tr>\n",
       "\t<tr><td>⋮</td><td>⋮</td><td>⋮</td><td>⋮</td><td>⋮</td><td>⋮</td><td>⋮</td><td>⋮</td><td>⋮</td><td>⋮</td><td>⋮</td><td>⋮</td><td>⋮</td><td>⋮</td><td>⋮</td><td>⋮</td><td>⋮</td><td>⋮</td><td>⋮</td></tr>\n",
       "\t<tr><td>NA</td><td>NA</td><td>NA</td><td>NA</td><td>NA</td><td>NA</td><td>NA</td><td>NA</td><td>NA</td><td>NA</td><td>NA</td><td>NA</td><td>NA</td><td>NA</td><td>NA</td><td>NA</td><td>NA</td><td>NA</td><td>NA</td></tr>\n",
       "\t<tr><td>NA</td><td>NA</td><td>NA</td><td>NA</td><td>NA</td><td>NA</td><td>NA</td><td>NA</td><td>NA</td><td>NA</td><td>NA</td><td>NA</td><td>NA</td><td>NA</td><td>NA</td><td>NA</td><td>NA</td><td>NA</td><td>NA</td></tr>\n",
       "\t<tr><td>NA</td><td>NA</td><td>NA</td><td>NA</td><td>NA</td><td>NA</td><td>NA</td><td>NA</td><td>NA</td><td>NA</td><td>NA</td><td>NA</td><td>NA</td><td>NA</td><td>NA</td><td>NA</td><td>NA</td><td>NA</td><td>NA</td></tr>\n",
       "</tbody>\n",
       "</table>\n"
      ],
      "text/latex": [
       "A spec\\_tbl\\_df: 83 × 19\n",
       "\\begin{tabular}{lllllllllllllllllll}\n",
       " Student ID & Total magnification & Total \\# eggs...3 & Total \\# eggs fertilized...4 & Features of fertilization...5 & \\% fertilization...6 & ...7 & Total \\# eggs...8 & Total \\# eggs fertilized...9 & Features of fertilization...10 & Total eggs with cleavage furrow & Total eggs at 2-cell stage & Total eggs at 4-cell stage & Total eggs at 8-cell stage & \\% fertilization...15 & ...16 & ...17 & fertpre & fertpost\\\\\n",
       " <chr> & <dbl> & <chr> & <dbl> & <chr> & <chr> & <lgl> & <dbl> & <dbl> & <chr> & <dbl> & <dbl> & <dbl> & <lgl> & <chr> & <lgl> & <dbl> & <dbl> & <dbl>\\\\\n",
       "\\hline\n",
       "\t 1 & 12.5 & 20 & 11 & - dark spot -> sperm entry\n",
       "- animal pole facing up                        & 55          & NA &  9 &  4 & - dark spot -> sperm entry\n",
       "- animal pole facing up\n",
       "- cleavage & NA & 1 & 0 & NA & 44.44444444 & NA & NA & 0.5500000 & 0.4444444\\\\\n",
       "\t 2 & 12.5 & 13 &  6 & - dark spot -> sperm entry\n",
       "- animal pole facing up                        & 46.15384615 & NA & 28 & 17 & - dark spot -> sperm entry\n",
       "- animal pole facing up\n",
       "- cleavage & NA & 2 & 1 & NA & 60.71428571 & NA & NA & 0.4615385 & 0.6071429\\\\\n",
       "\t 3 & 12.5 & 5  &  0 & cleavage furrow, fertilization envelope, 2 cell stage, orientation, colour & 0           & NA & 10 &  0 & NA                                                              &  0 & 0 & 0 & NA & 0.00\\%       & NA & NA & 0.0000000 & 0.0000000\\\\\n",
       "\t ⋮ & ⋮ & ⋮ & ⋮ & ⋮ & ⋮ & ⋮ & ⋮ & ⋮ & ⋮ & ⋮ & ⋮ & ⋮ & ⋮ & ⋮ & ⋮ & ⋮ & ⋮ & ⋮\\\\\n",
       "\t NA & NA & NA & NA & NA & NA & NA & NA & NA & NA & NA & NA & NA & NA & NA & NA & NA & NA & NA\\\\\n",
       "\t NA & NA & NA & NA & NA & NA & NA & NA & NA & NA & NA & NA & NA & NA & NA & NA & NA & NA & NA\\\\\n",
       "\t NA & NA & NA & NA & NA & NA & NA & NA & NA & NA & NA & NA & NA & NA & NA & NA & NA & NA & NA\\\\\n",
       "\\end{tabular}\n"
      ],
      "text/markdown": [
       "\n",
       "A spec_tbl_df: 83 × 19\n",
       "\n",
       "| Student ID &lt;chr&gt; | Total magnification &lt;dbl&gt; | Total # eggs...3 &lt;chr&gt; | Total # eggs fertilized...4 &lt;dbl&gt; | Features of fertilization...5 &lt;chr&gt; | % fertilization...6 &lt;chr&gt; | ...7 &lt;lgl&gt; | Total # eggs...8 &lt;dbl&gt; | Total # eggs fertilized...9 &lt;dbl&gt; | Features of fertilization...10 &lt;chr&gt; | Total eggs with cleavage furrow &lt;dbl&gt; | Total eggs at 2-cell stage &lt;dbl&gt; | Total eggs at 4-cell stage &lt;dbl&gt; | Total eggs at 8-cell stage &lt;lgl&gt; | % fertilization...15 &lt;chr&gt; | ...16 &lt;lgl&gt; | ...17 &lt;dbl&gt; | fertpre &lt;dbl&gt; | fertpost &lt;dbl&gt; |\n",
       "|---|---|---|---|---|---|---|---|---|---|---|---|---|---|---|---|---|---|---|\n",
       "| 1 | 12.5 | 20 | 11 | - dark spot -&gt; sperm entry\n",
       "- animal pole facing up                        | 55          | NA |  9 |  4 | - dark spot -&gt; sperm entry\n",
       "- animal pole facing up\n",
       "- cleavage | NA | 1 | 0 | NA | 44.44444444 | NA | NA | 0.5500000 | 0.4444444 |\n",
       "| 2 | 12.5 | 13 |  6 | - dark spot -&gt; sperm entry\n",
       "- animal pole facing up                        | 46.15384615 | NA | 28 | 17 | - dark spot -&gt; sperm entry\n",
       "- animal pole facing up\n",
       "- cleavage | NA | 2 | 1 | NA | 60.71428571 | NA | NA | 0.4615385 | 0.6071429 |\n",
       "| 3 | 12.5 | 5  |  0 | cleavage furrow, fertilization envelope, 2 cell stage, orientation, colour | 0           | NA | 10 |  0 | NA                                                              |  0 | 0 | 0 | NA | 0.00%       | NA | NA | 0.0000000 | 0.0000000 |\n",
       "| ⋮ | ⋮ | ⋮ | ⋮ | ⋮ | ⋮ | ⋮ | ⋮ | ⋮ | ⋮ | ⋮ | ⋮ | ⋮ | ⋮ | ⋮ | ⋮ | ⋮ | ⋮ | ⋮ |\n",
       "| NA | NA | NA | NA | NA | NA | NA | NA | NA | NA | NA | NA | NA | NA | NA | NA | NA | NA | NA |\n",
       "| NA | NA | NA | NA | NA | NA | NA | NA | NA | NA | NA | NA | NA | NA | NA | NA | NA | NA | NA |\n",
       "| NA | NA | NA | NA | NA | NA | NA | NA | NA | NA | NA | NA | NA | NA | NA | NA | NA | NA | NA |\n",
       "\n"
      ],
      "text/plain": [
       "   Student ID Total magnification Total # eggs...3 Total # eggs fertilized...4\n",
       "1  1          12.5                20               11                         \n",
       "2  2          12.5                13                6                         \n",
       "3  3          12.5                5                 0                         \n",
       "⋮  ⋮          ⋮                   ⋮                ⋮                          \n",
       "81 NA         NA                  NA               NA                         \n",
       "82 NA         NA                  NA               NA                         \n",
       "83 NA         NA                  NA               NA                         \n",
       "   Features of fertilization...5                                             \n",
       "1  - dark spot -> sperm entry\\n- animal pole facing up                       \n",
       "2  - dark spot -> sperm entry\\n- animal pole facing up                       \n",
       "3  cleavage furrow, fertilization envelope, 2 cell stage, orientation, colour\n",
       "⋮  ⋮                                                                         \n",
       "81 NA                                                                        \n",
       "82 NA                                                                        \n",
       "83 NA                                                                        \n",
       "   % fertilization...6 ...7 Total # eggs...8 Total # eggs fertilized...9\n",
       "1  55                  NA    9                4                         \n",
       "2  46.15384615         NA   28               17                         \n",
       "3  0                   NA   10                0                         \n",
       "⋮  ⋮                   ⋮    ⋮                ⋮                          \n",
       "81 NA                  NA   NA               NA                         \n",
       "82 NA                  NA   NA               NA                         \n",
       "83 NA                  NA   NA               NA                         \n",
       "   Features of fertilization...10                                 \n",
       "1  - dark spot -> sperm entry\\n- animal pole facing up\\n- cleavage\n",
       "2  - dark spot -> sperm entry\\n- animal pole facing up\\n- cleavage\n",
       "3  NA                                                             \n",
       "⋮  ⋮                                                              \n",
       "81 NA                                                             \n",
       "82 NA                                                             \n",
       "83 NA                                                             \n",
       "   Total eggs with cleavage furrow Total eggs at 2-cell stage\n",
       "1  NA                              1                         \n",
       "2  NA                              2                         \n",
       "3   0                              0                         \n",
       "⋮  ⋮                               ⋮                         \n",
       "81 NA                              NA                        \n",
       "82 NA                              NA                        \n",
       "83 NA                              NA                        \n",
       "   Total eggs at 4-cell stage Total eggs at 8-cell stage % fertilization...15\n",
       "1  0                          NA                         44.44444444         \n",
       "2  1                          NA                         60.71428571         \n",
       "3  0                          NA                         0.00%               \n",
       "⋮  ⋮                          ⋮                          ⋮                   \n",
       "81 NA                         NA                         NA                  \n",
       "82 NA                         NA                         NA                  \n",
       "83 NA                         NA                         NA                  \n",
       "   ...16 ...17 fertpre   fertpost \n",
       "1  NA    NA    0.5500000 0.4444444\n",
       "2  NA    NA    0.4615385 0.6071429\n",
       "3  NA    NA    0.0000000 0.0000000\n",
       "⋮  ⋮     ⋮     ⋮         ⋮        \n",
       "81 NA    NA    NA        NA       \n",
       "82 NA    NA    NA        NA       \n",
       "83 NA    NA    NA        NA       "
      ]
     },
     "metadata": {},
     "output_type": "display_data"
    }
   ],
   "source": [
    "data<-read_csv(\"data/fert.csv\",skip=1)\n",
    "#data<-data|>mutate(Time=as.factor(Time))|>\n",
    "#mutate(temp=as.factor(temp))|>\n",
    "#mutate(embryos_percent=embryos_percent*100)\n",
    "\n",
    "data"
   ]
  },
  {
   "cell_type": "code",
   "execution_count": 3,
   "id": "f7388ef1-c412-413c-b1e8-3224332a14b3",
   "metadata": {},
   "outputs": [
    {
     "data": {
      "text/html": [
       "<table class=\"dataframe\">\n",
       "<caption>A tibble: 83 × 2</caption>\n",
       "<thead>\n",
       "\t<tr><th scope=col>fertpre</th><th scope=col>fertpost</th></tr>\n",
       "\t<tr><th scope=col>&lt;dbl&gt;</th><th scope=col>&lt;dbl&gt;</th></tr>\n",
       "</thead>\n",
       "<tbody>\n",
       "\t<tr><td>0.5500000</td><td>0.4444444</td></tr>\n",
       "\t<tr><td>0.4615385</td><td>0.6071429</td></tr>\n",
       "\t<tr><td>0.0000000</td><td>0.0000000</td></tr>\n",
       "\t<tr><td>⋮</td><td>⋮</td></tr>\n",
       "\t<tr><td>NA</td><td>NA</td></tr>\n",
       "\t<tr><td>NA</td><td>NA</td></tr>\n",
       "\t<tr><td>NA</td><td>NA</td></tr>\n",
       "</tbody>\n",
       "</table>\n"
      ],
      "text/latex": [
       "A tibble: 83 × 2\n",
       "\\begin{tabular}{ll}\n",
       " fertpre & fertpost\\\\\n",
       " <dbl> & <dbl>\\\\\n",
       "\\hline\n",
       "\t 0.5500000 & 0.4444444\\\\\n",
       "\t 0.4615385 & 0.6071429\\\\\n",
       "\t 0.0000000 & 0.0000000\\\\\n",
       "\t ⋮ & ⋮\\\\\n",
       "\t NA & NA\\\\\n",
       "\t NA & NA\\\\\n",
       "\t NA & NA\\\\\n",
       "\\end{tabular}\n"
      ],
      "text/markdown": [
       "\n",
       "A tibble: 83 × 2\n",
       "\n",
       "| fertpre &lt;dbl&gt; | fertpost &lt;dbl&gt; |\n",
       "|---|---|\n",
       "| 0.5500000 | 0.4444444 |\n",
       "| 0.4615385 | 0.6071429 |\n",
       "| 0.0000000 | 0.0000000 |\n",
       "| ⋮ | ⋮ |\n",
       "| NA | NA |\n",
       "| NA | NA |\n",
       "| NA | NA |\n",
       "\n"
      ],
      "text/plain": [
       "   fertpre   fertpost \n",
       "1  0.5500000 0.4444444\n",
       "2  0.4615385 0.6071429\n",
       "3  0.0000000 0.0000000\n",
       "⋮  ⋮         ⋮        \n",
       "81 NA        NA       \n",
       "82 NA        NA       \n",
       "83 NA        NA       "
      ]
     },
     "metadata": {},
     "output_type": "display_data"
    }
   ],
   "source": [
    "data1<-data|>select(fertpre, fertpost)\n",
    "data1"
   ]
  },
  {
   "cell_type": "code",
   "execution_count": 4,
   "id": "11e7e6ed-55de-4d77-81b0-b14196289aca",
   "metadata": {},
   "outputs": [
    {
     "name": "stderr",
     "output_type": "stream",
     "text": [
      "\u001b[1m\u001b[22m`stat_bin()` using `bins = 30`. Pick better value with `binwidth`.\n",
      "Warning message:\n",
      "“\u001b[1m\u001b[22mRemoved 24 rows containing non-finite values (`stat_bin()`).”\n"
     ]
    },
    {
     "data": {
      "image/png": "[encoded data removed]",
      "text/plain": [
       "plot without title"
      ]
     },
     "metadata": {
      "image/png": {
       "height": 420,
       "width": 420
      }
     },
     "output_type": "display_data"
    }
   ],
   "source": [
    "ggplot(data1, aes(x=fertpre))+\n",
    "geom_histogram()+\n",
    "ggtitle(\"pre dejellying\")"
   ]
  },
  {
   "cell_type": "code",
   "execution_count": 5,
   "id": "02476f3c-8068-4800-b32d-08d762372a05",
   "metadata": {},
   "outputs": [
    {
     "ename": "ERROR",
     "evalue": "Error in parse(text = x, srcfile = src): <text>:3:9: unexpected INCOMPLETE_STRING\n2: geom_histogram()+\n3: ggtilte(\"post dejellying)\n           ^\n",
     "output_type": "error",
     "traceback": [
      "Error in parse(text = x, srcfile = src): <text>:3:9: unexpected INCOMPLETE_STRING\n2: geom_histogram()+\n3: ggtilte(\"post dejellying)\n           ^\nTraceback:\n"
     ]
    }
   ],
   "source": [
    "ggplot(data1, aes(x=fertpost))+\n",
    "geom_histogram()+\n",
    "ggtilte(\"post dejellying)"
   ]
  },
  {
   "cell_type": "markdown",
   "id": "837599b6-5d2f-4a49-aa63-a33b20f70041",
   "metadata": {},
   "source": [
    "# fertilization table"
   ]
  },
  {
   "cell_type": "code",
   "execution_count": 6,
   "id": "73ff192c-c7c6-49dc-80bb-503d38430551",
   "metadata": {},
   "outputs": [
    {
     "data": {
      "text/html": [
       "<table class=\"dataframe\">\n",
       "<caption>A data.frame: 2 × 4</caption>\n",
       "<thead>\n",
       "\t<tr><th scope=col>Time</th><th scope=col>percent</th><th scope=col>total</th><th scope=col>fertilized</th></tr>\n",
       "\t<tr><th scope=col>&lt;chr&gt;</th><th scope=col>&lt;dbl&gt;</th><th scope=col>&lt;dbl&gt;</th><th scope=col>&lt;dbl&gt;</th></tr>\n",
       "</thead>\n",
       "<tbody>\n",
       "\t<tr><td>pre dejelly </td><td>0.3178</td><td>866</td><td>276</td></tr>\n",
       "\t<tr><td>post dejelly</td><td>0.3996</td><td>986</td><td>394</td></tr>\n",
       "</tbody>\n",
       "</table>\n"
      ],
      "text/latex": [
       "A data.frame: 2 × 4\n",
       "\\begin{tabular}{llll}\n",
       " Time & percent & total & fertilized\\\\\n",
       " <chr> & <dbl> & <dbl> & <dbl>\\\\\n",
       "\\hline\n",
       "\t pre dejelly  & 0.3178 & 866 & 276\\\\\n",
       "\t post dejelly & 0.3996 & 986 & 394\\\\\n",
       "\\end{tabular}\n"
      ],
      "text/markdown": [
       "\n",
       "A data.frame: 2 × 4\n",
       "\n",
       "| Time &lt;chr&gt; | percent &lt;dbl&gt; | total &lt;dbl&gt; | fertilized &lt;dbl&gt; |\n",
       "|---|---|---|---|\n",
       "| pre dejelly  | 0.3178 | 866 | 276 |\n",
       "| post dejelly | 0.3996 | 986 | 394 |\n",
       "\n"
      ],
      "text/plain": [
       "  Time         percent total fertilized\n",
       "1 pre dejelly  0.3178  866   276       \n",
       "2 post dejelly 0.3996  986   394       "
      ]
     },
     "metadata": {},
     "output_type": "display_data"
    }
   ],
   "source": [
    "df<-data.frame(\n",
    "    \"Time\"=c(\"pre dejelly\",\"post dejelly\"),\n",
    "    \"percent\"=c(0.3178,0.3996),\n",
    "    \"total\"=c(866,986),\n",
    "    \"fertilized\"=c(276,394)\n",
    "    )\n",
    "df"
   ]
  },
  {
   "cell_type": "code",
   "execution_count": null,
   "id": "0ed467e1-c93c-4fd6-bf39-0b43860d3565",
   "metadata": {},
   "outputs": [],
   "source": []
  }
 ],
 "metadata": {
  "kernelspec": {
   "display_name": "R",
   "language": "R",
   "name": "ir"
  },
  "language_info": {
   "codemirror_mode": "r",
   "file_extension": ".r",
   "mimetype": "text/x-r-source",
   "name": "R",
   "pygments_lexer": "r",
   "version": "4.2.2"
  }
 },
 "nbformat": 4,
 "nbformat_minor": 5
}
