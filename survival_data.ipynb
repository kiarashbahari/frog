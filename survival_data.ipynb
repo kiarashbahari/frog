{
 "cells": [
  {
   "cell_type": "code",
   "execution_count": null,
   "id": "7de7518c-3b9e-4d45-b0af-736f12858469",
   "metadata": {},
   "outputs": [],
   "source": [
    "library(tidyverse)\n",
    "library(repr)\n",
    "options(repr.matrix.max.rows = 6)\n",
    "library(readxl)"
   ]
  },
  {
   "cell_type": "code",
   "execution_count": null,
   "id": "f221d2af-2df5-4007-a4d1-e02d659c4675",
   "metadata": {},
   "outputs": [],
   "source": [
    "#read_excel(\"data/data.xlsx\")\n",
    "data1<-read_csv(\"data/data.csv\", skip=1)\n",
    " colnames(data1)<-make.names(colnames(data1))\n",
    "\n",
    "data1"
   ]
  },
  {
   "cell_type": "code",
   "execution_count": null,
   "id": "d9614938-31d9-4698-a9e1-c43c49f2c367",
   "metadata": {},
   "outputs": [],
   "source": [
    "data2<-read_csv(\"data/data2.csv\", skip=1)\n",
    " colnames(data2)<-make.names(colnames(data2))\n",
    "data2<-data2|>\n",
    "    select(Incubation.temperature, Total...embryos.in.dish, Max..developmental.stage.reached)|>\n",
    "        mutate(Total...embryos.in.dish=as.numeric(Total...embryos.in.dish))\n",
    "data2\n",
    "a<-data2|>group_by(Incubation.temperature)|>summarize(sum=sum(Total...embryos.in.dish))\n",
    "a\n",
    "\n",
    "data22<-data2|> group_by(Incubation.temperature,Max..developmental.stage.reached)|>\n",
    "summarize(sum=sum(Total...embryos.in.dish))\n",
    "data22\n"
   ]
  },
  {
   "cell_type": "code",
   "execution_count": null,
   "id": "e777d9ed-75bc-4d07-9de4-00880108c1af",
   "metadata": {},
   "outputs": [],
   "source": [
    "data3<-read_csv(\"data/data3.csv\", skip=1)\n",
    " colnames(data3)<-make.names(colnames(data3))\n",
    "data3<-data3|>select(Time.of.observation:Max..developmental.stage.reached)\n",
    "data3\n",
    "#b<-data3|>group_by(Incubation.temperature)|>summarize(sum=sum(Total...embryos.at.each.stage))\n",
    "#b\n",
    "#data33<-data3|> group_by(Incubation.temperature,Max..developmental.stage.reached)|>\n",
    "#summarize(sum=sum(Total...embryos.in.dish))\n",
    "#data33\n",
    "\n",
    "#data333<-data3|> mutate(Max..developmental.stage.reached = stringr::str_remove(Max..developmental.stage.reached, pattern = \"\\\\s\"))\n",
    "#group_by(Max..developmental.stage.reached)|>summarize(sum=sum(Total...embryos.in.dish))\n",
    "#data333\n",
    "\n"
   ]
  },
  {
   "cell_type": "code",
   "execution_count": null,
   "id": "4c4fbe82-f080-415c-8c30-d23c8e1d2c96",
   "metadata": {},
   "outputs": [],
   "source": [
    "data333<-data3|> mutate(Max..developmental.stage.reached = stringr::str_remove(Max..developmental.stage.reached, pattern = \"\\\\s\"))\n",
    "#group_by(Max..developmental.stage.reached)|>summarize(sum=sum(Total...embryos.in.dish))\n",
    "\n",
    "data333<-data333|> mutate(Max..developmental.stage.reached = stringr::str_remove(Max..developmental.stage.reached, pattern = \"\\\\s\"))\n",
    "#group_by(Max..developmental.stage.reached)|>summarize(sum=sum(Total...embryos.in.dish))\n",
    "data333\n",
    "data18<-data333|>if(Incubation.temperature==18) {mutate(Total...embryos.at.each.stage=Total...embryos.at.each.stage/597)}\n",
    "else {mutate(Total...embryos.at.each.stage=Total...embryos.at.each.stage/5}\n",
    "\n",
    "data34<-data333|> group_by(Max..developmental.stage.reached,Incubation.temperature)|>\n",
    "summarize(sum=sum(Total...embryos.at.each.stage))#|>\n",
    "#filter(Max..developmental.stage.reached != NA)\n",
    "data34"
   ]
  },
  {
   "cell_type": "markdown",
   "id": "70e76161-85a3-4904-bbbe-8dcfab716a90",
   "metadata": {},
   "source": [
    "# pearson chi sq contengency table\n",
    "# survial rate for 23 vs 18 "
   ]
  },
  {
   "cell_type": "code",
   "execution_count": null,
   "id": "24e6b731-60aa-4bb7-8ffd-d40d81f413d5",
   "metadata": {},
   "outputs": [],
   "source": [
    "df<-data.frame(\n",
    "    \"Temprature\"=c(\"18C\",\"23C\"),\n",
    "    \"Lost\"=c(571,543),\n",
    "    \"Alive\"=c(26,17)\n",
    "    )\n",
    "\n",
    "\n",
    "df2<-data.frame(\n",
    "    \"Temprature\"=c(\"18C\",\"23C\"),\n",
    "    \"Lost%\"=c(571/597,543/560),\n",
    "    \"Alive%\"=c(26/597,17/560),\n",
    "    \"Total\"=c(597,560)\n",
    "    )\n",
    "\n",
    "modifiedDf<-as.matrix(df)\n",
    "modifiedDf\n",
    "df2\n",
    "datatable <- matrix(c(571,543,26,17),nrow=2,ncol=2)\n",
    "datatable\n",
    "#datatable\n",
    "chisq.test(datatable,correct=FALSE)\n",
    "\n",
    "#table<-as.table(modifiedDf)\n",
    "#modifiedDf\n",
    "#table\n",
    "\n",
    "df2<-data.frame(\n",
    "    \"Temprature\"=c(\"18C\",\"23C\",\"18C\",\"23C\"),\n",
    "    \"percent\"=c(571/597,543/560,26/597,17/560),\n",
    "    \"Stat\"=c('dead','dead', 'live','live')\n",
    "    )\n",
    "#mosaicplot(table)\n",
    "#chisq.test(table)"
   ]
  },
  {
   "cell_type": "code",
   "execution_count": null,
   "id": "04ae501a-115b-4aad-9ec9-616fc007f2ef",
   "metadata": {},
   "outputs": [],
   "source": [
    "df3<-data.frame(\n",
    "    \"Temperature\"=c(\"18C\",\"23C\",\"18C\",\"23C\"),\n",
    "    \"percent\"=c(571/597,543/560,26/597,17/560),\n",
    "    \"Stat\"=c('dead','dead', 'live','live')\n",
    "    )\n",
    "df3"
   ]
  },
  {
   "cell_type": "code",
   "execution_count": null,
   "id": "9f65f4ba-767c-48b2-8d1e-21d2915a7aa5",
   "metadata": {},
   "outputs": [],
   "source": [
    "ggplot(df3, aes(x=Temperature, y=percent, fill=Stat))+\n",
    "geom_bar(stat=\"identity\", position = position_dodge())+\n",
    "scale_y_break(c(0.25,0.8))\n",
    "#labs(x=\"Time After Fertilization (Hours)\", y= 'Stage of Development', color='Incubation\\nTemperature')+\n",
    "#scale_color_discrete(labels=c('18°C','23°C'))+\n",
    "#scale_x_continuous(limits=c(0,80),breaks=seq(0,80,24))"
   ]
  },
  {
   "cell_type": "markdown",
   "id": "cc989e39-af90-4743-80f7-e0c7df8e1e65",
   "metadata": {},
   "source": [
    "different degrees do not affect the death rate "
   ]
  },
  {
   "cell_type": "code",
   "execution_count": null,
   "id": "986bbf46-91f6-49e9-b9ce-4c5e79862fc9",
   "metadata": {},
   "outputs": [],
   "source": []
  },
  {
   "cell_type": "code",
   "execution_count": null,
   "id": "f3fdcd6c-3a7f-4a27-ac06-ca55031c5cb4",
   "metadata": {},
   "outputs": [],
   "source": []
  },
  {
   "cell_type": "code",
   "execution_count": null,
   "id": "0ab89f47-04b0-4d17-8f50-d5eb04a062ed",
   "metadata": {},
   "outputs": [],
   "source": []
  },
  {
   "cell_type": "code",
   "execution_count": null,
   "id": "869702fc-b068-460f-8e15-c4e386574fdb",
   "metadata": {},
   "outputs": [],
   "source": []
  },
  {
   "cell_type": "code",
   "execution_count": null,
   "id": "dd9f2bbb-6e95-4e30-842c-7277c1ba9397",
   "metadata": {},
   "outputs": [],
   "source": []
  }
 ],
 "metadata": {
  "kernelspec": {
   "display_name": "R",
   "language": "R",
   "name": "ir"
  },
  "language_info": {
   "codemirror_mode": "r",
   "file_extension": ".r",
   "mimetype": "text/x-r-source",
   "name": "R",
   "pygments_lexer": "r",
   "version": "4.2.2"
  }
 },
 "nbformat": 4,
 "nbformat_minor": 5
}
