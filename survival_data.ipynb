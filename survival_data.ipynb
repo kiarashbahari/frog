{
 "cells": [
  {
   "cell_type": "code",
   "execution_count": 6,
   "id": "7de7518c-3b9e-4d45-b0af-736f12858469",
   "metadata": {},
   "outputs": [],
   "source": [
    "library(tidyverse)\n",
    "library(repr)\n",
    "options(repr.matrix.max.rows = 6)\n",
    "library(readxl)"
   ]
  },
  {
   "cell_type": "code",
   "execution_count": 7,
   "id": "f221d2af-2df5-4007-a4d1-e02d659c4675",
   "metadata": {},
   "outputs": [
    {
     "name": "stderr",
     "output_type": "stream",
     "text": [
      "\u001b[1m\u001b[22mNew names:\n",
      "\u001b[36m•\u001b[39m `Total # eggs` -> `Total # eggs...3`\n",
      "\u001b[36m•\u001b[39m `Total # eggs fertilized` -> `Total # eggs fertilized...4`\n",
      "\u001b[36m•\u001b[39m `Features of fertilization` -> `Features of fertilization...5`\n",
      "\u001b[36m•\u001b[39m `% fertilization` -> `% fertilization...6`\n",
      "\u001b[36m•\u001b[39m `` -> `...7`\n",
      "\u001b[36m•\u001b[39m `Total # eggs` -> `Total # eggs...8`\n",
      "\u001b[36m•\u001b[39m `Total # eggs fertilized` -> `Total # eggs fertilized...9`\n",
      "\u001b[36m•\u001b[39m `Features of fertilization` -> `Features of fertilization...10`\n",
      "\u001b[36m•\u001b[39m `% fertilization` -> `% fertilization...15`\n",
      "\u001b[1mRows: \u001b[22m\u001b[34m83\u001b[39m \u001b[1mColumns: \u001b[22m\u001b[34m15\u001b[39m\n",
      "\u001b[36m──\u001b[39m \u001b[1mColumn specification\u001b[22m \u001b[36m────────────────────────────────────────────────────────\u001b[39m\n",
      "\u001b[1mDelimiter:\u001b[22m \",\"\n",
      "\u001b[31mchr\u001b[39m (6): Student ID, Total # eggs...3, Features of fertilization...5, % fert...\n",
      "\u001b[32mdbl\u001b[39m (7): Total magnification, Total # eggs fertilized...4, Total # eggs...8,...\n",
      "\u001b[33mlgl\u001b[39m (2): ...7, Total eggs at 8-cell stage\n",
      "\n",
      "\u001b[36mℹ\u001b[39m Use `spec()` to retrieve the full column specification for this data.\n",
      "\u001b[36mℹ\u001b[39m Specify the column types or set `show_col_types = FALSE` to quiet this message.\n"
     ]
    },
    {
     "data": {
      "text/html": [
       "<table class=\"dataframe\">\n",
       "<caption>A spec_tbl_df: 83 × 15</caption>\n",
       "<thead>\n",
       "\t<tr><th scope=col>Student.ID</th><th scope=col>Total.magnification</th><th scope=col>Total...eggs...3</th><th scope=col>Total...eggs.fertilized...4</th><th scope=col>Features.of.fertilization...5</th><th scope=col>X..fertilization...6</th><th scope=col>...7</th><th scope=col>Total...eggs...8</th><th scope=col>Total...eggs.fertilized...9</th><th scope=col>Features.of.fertilization...10</th><th scope=col>Total.eggs.with.cleavage.furrow</th><th scope=col>Total.eggs.at.2.cell.stage</th><th scope=col>Total.eggs.at.4.cell.stage</th><th scope=col>Total.eggs.at.8.cell.stage</th><th scope=col>X..fertilization...15</th></tr>\n",
       "\t<tr><th scope=col>&lt;chr&gt;</th><th scope=col>&lt;dbl&gt;</th><th scope=col>&lt;chr&gt;</th><th scope=col>&lt;dbl&gt;</th><th scope=col>&lt;chr&gt;</th><th scope=col>&lt;chr&gt;</th><th scope=col>&lt;lgl&gt;</th><th scope=col>&lt;dbl&gt;</th><th scope=col>&lt;dbl&gt;</th><th scope=col>&lt;chr&gt;</th><th scope=col>&lt;dbl&gt;</th><th scope=col>&lt;dbl&gt;</th><th scope=col>&lt;dbl&gt;</th><th scope=col>&lt;lgl&gt;</th><th scope=col>&lt;chr&gt;</th></tr>\n",
       "</thead>\n",
       "<tbody>\n",
       "\t<tr><td>1</td><td>12.5</td><td>20</td><td>11</td><td><span style=white-space:pre-wrap>- dark spot -&gt; sperm entry\n",
       "- animal pole facing up                       </span></td><td><span style=white-space:pre-wrap>55         </span></td><td>NA</td><td> 9</td><td> 4</td><td>- dark spot -&gt; sperm entry\n",
       "- animal pole facing up\n",
       "- cleavage</td><td>NA</td><td>1</td><td>0</td><td>NA</td><td>44.44444444</td></tr>\n",
       "\t<tr><td>2</td><td>12.5</td><td>13</td><td> 6</td><td><span style=white-space:pre-wrap>- dark spot -&gt; sperm entry\n",
       "- animal pole facing up                       </span></td><td>46.15384615</td><td>NA</td><td>28</td><td>17</td><td>- dark spot -&gt; sperm entry\n",
       "- animal pole facing up\n",
       "- cleavage</td><td>NA</td><td>2</td><td>1</td><td>NA</td><td>60.71428571</td></tr>\n",
       "\t<tr><td>3</td><td>12.5</td><td>5 </td><td> 0</td><td>cleavage furrow, fertilization envelope, 2 cell stage, orientation, colour</td><td>0          </td><td>NA</td><td>10</td><td> 0</td><td>NA                                                             </td><td> 0</td><td>0</td><td>0</td><td>NA</td><td>0.00%      </td></tr>\n",
       "\t<tr><td>⋮</td><td>⋮</td><td>⋮</td><td>⋮</td><td>⋮</td><td>⋮</td><td>⋮</td><td>⋮</td><td>⋮</td><td>⋮</td><td>⋮</td><td>⋮</td><td>⋮</td><td>⋮</td><td>⋮</td></tr>\n",
       "\t<tr><td>NA</td><td>NA</td><td>NA</td><td>NA</td><td>NA</td><td>NA</td><td>NA</td><td>NA</td><td>NA</td><td>NA</td><td>NA</td><td>NA</td><td>NA</td><td>NA</td><td>NA</td></tr>\n",
       "\t<tr><td>NA</td><td>NA</td><td>NA</td><td>NA</td><td>NA</td><td>NA</td><td>NA</td><td>NA</td><td>NA</td><td>NA</td><td>NA</td><td>NA</td><td>NA</td><td>NA</td><td>NA</td></tr>\n",
       "\t<tr><td>NA</td><td>NA</td><td>NA</td><td>NA</td><td>NA</td><td>NA</td><td>NA</td><td>NA</td><td>NA</td><td>NA</td><td>NA</td><td>NA</td><td>NA</td><td>NA</td><td>NA</td></tr>\n",
       "</tbody>\n",
       "</table>\n"
      ],
      "text/latex": [
       "A spec\\_tbl\\_df: 83 × 15\n",
       "\\begin{tabular}{lllllllllllllll}\n",
       " Student.ID & Total.magnification & Total...eggs...3 & Total...eggs.fertilized...4 & Features.of.fertilization...5 & X..fertilization...6 & ...7 & Total...eggs...8 & Total...eggs.fertilized...9 & Features.of.fertilization...10 & Total.eggs.with.cleavage.furrow & Total.eggs.at.2.cell.stage & Total.eggs.at.4.cell.stage & Total.eggs.at.8.cell.stage & X..fertilization...15\\\\\n",
       " <chr> & <dbl> & <chr> & <dbl> & <chr> & <chr> & <lgl> & <dbl> & <dbl> & <chr> & <dbl> & <dbl> & <dbl> & <lgl> & <chr>\\\\\n",
       "\\hline\n",
       "\t 1 & 12.5 & 20 & 11 & - dark spot -> sperm entry\n",
       "- animal pole facing up                        & 55          & NA &  9 &  4 & - dark spot -> sperm entry\n",
       "- animal pole facing up\n",
       "- cleavage & NA & 1 & 0 & NA & 44.44444444\\\\\n",
       "\t 2 & 12.5 & 13 &  6 & - dark spot -> sperm entry\n",
       "- animal pole facing up                        & 46.15384615 & NA & 28 & 17 & - dark spot -> sperm entry\n",
       "- animal pole facing up\n",
       "- cleavage & NA & 2 & 1 & NA & 60.71428571\\\\\n",
       "\t 3 & 12.5 & 5  &  0 & cleavage furrow, fertilization envelope, 2 cell stage, orientation, colour & 0           & NA & 10 &  0 & NA                                                              &  0 & 0 & 0 & NA & 0.00\\%      \\\\\n",
       "\t ⋮ & ⋮ & ⋮ & ⋮ & ⋮ & ⋮ & ⋮ & ⋮ & ⋮ & ⋮ & ⋮ & ⋮ & ⋮ & ⋮ & ⋮\\\\\n",
       "\t NA & NA & NA & NA & NA & NA & NA & NA & NA & NA & NA & NA & NA & NA & NA\\\\\n",
       "\t NA & NA & NA & NA & NA & NA & NA & NA & NA & NA & NA & NA & NA & NA & NA\\\\\n",
       "\t NA & NA & NA & NA & NA & NA & NA & NA & NA & NA & NA & NA & NA & NA & NA\\\\\n",
       "\\end{tabular}\n"
      ],
      "text/markdown": [
       "\n",
       "A spec_tbl_df: 83 × 15\n",
       "\n",
       "| Student.ID &lt;chr&gt; | Total.magnification &lt;dbl&gt; | Total...eggs...3 &lt;chr&gt; | Total...eggs.fertilized...4 &lt;dbl&gt; | Features.of.fertilization...5 &lt;chr&gt; | X..fertilization...6 &lt;chr&gt; | ...7 &lt;lgl&gt; | Total...eggs...8 &lt;dbl&gt; | Total...eggs.fertilized...9 &lt;dbl&gt; | Features.of.fertilization...10 &lt;chr&gt; | Total.eggs.with.cleavage.furrow &lt;dbl&gt; | Total.eggs.at.2.cell.stage &lt;dbl&gt; | Total.eggs.at.4.cell.stage &lt;dbl&gt; | Total.eggs.at.8.cell.stage &lt;lgl&gt; | X..fertilization...15 &lt;chr&gt; |\n",
       "|---|---|---|---|---|---|---|---|---|---|---|---|---|---|---|\n",
       "| 1 | 12.5 | 20 | 11 | - dark spot -&gt; sperm entry\n",
       "- animal pole facing up                        | 55          | NA |  9 |  4 | - dark spot -&gt; sperm entry\n",
       "- animal pole facing up\n",
       "- cleavage | NA | 1 | 0 | NA | 44.44444444 |\n",
       "| 2 | 12.5 | 13 |  6 | - dark spot -&gt; sperm entry\n",
       "- animal pole facing up                        | 46.15384615 | NA | 28 | 17 | - dark spot -&gt; sperm entry\n",
       "- animal pole facing up\n",
       "- cleavage | NA | 2 | 1 | NA | 60.71428571 |\n",
       "| 3 | 12.5 | 5  |  0 | cleavage furrow, fertilization envelope, 2 cell stage, orientation, colour | 0           | NA | 10 |  0 | NA                                                              |  0 | 0 | 0 | NA | 0.00%       |\n",
       "| ⋮ | ⋮ | ⋮ | ⋮ | ⋮ | ⋮ | ⋮ | ⋮ | ⋮ | ⋮ | ⋮ | ⋮ | ⋮ | ⋮ | ⋮ |\n",
       "| NA | NA | NA | NA | NA | NA | NA | NA | NA | NA | NA | NA | NA | NA | NA |\n",
       "| NA | NA | NA | NA | NA | NA | NA | NA | NA | NA | NA | NA | NA | NA | NA |\n",
       "| NA | NA | NA | NA | NA | NA | NA | NA | NA | NA | NA | NA | NA | NA | NA |\n",
       "\n"
      ],
      "text/plain": [
       "   Student.ID Total.magnification Total...eggs...3 Total...eggs.fertilized...4\n",
       "1  1          12.5                20               11                         \n",
       "2  2          12.5                13                6                         \n",
       "3  3          12.5                5                 0                         \n",
       "⋮  ⋮          ⋮                   ⋮                ⋮                          \n",
       "81 NA         NA                  NA               NA                         \n",
       "82 NA         NA                  NA               NA                         \n",
       "83 NA         NA                  NA               NA                         \n",
       "   Features.of.fertilization...5                                             \n",
       "1  - dark spot -> sperm entry\\n- animal pole facing up                       \n",
       "2  - dark spot -> sperm entry\\n- animal pole facing up                       \n",
       "3  cleavage furrow, fertilization envelope, 2 cell stage, orientation, colour\n",
       "⋮  ⋮                                                                         \n",
       "81 NA                                                                        \n",
       "82 NA                                                                        \n",
       "83 NA                                                                        \n",
       "   X..fertilization...6 ...7 Total...eggs...8 Total...eggs.fertilized...9\n",
       "1  55                   NA    9                4                         \n",
       "2  46.15384615          NA   28               17                         \n",
       "3  0                    NA   10                0                         \n",
       "⋮  ⋮                    ⋮    ⋮                ⋮                          \n",
       "81 NA                   NA   NA               NA                         \n",
       "82 NA                   NA   NA               NA                         \n",
       "83 NA                   NA   NA               NA                         \n",
       "   Features.of.fertilization...10                                 \n",
       "1  - dark spot -> sperm entry\\n- animal pole facing up\\n- cleavage\n",
       "2  - dark spot -> sperm entry\\n- animal pole facing up\\n- cleavage\n",
       "3  NA                                                             \n",
       "⋮  ⋮                                                              \n",
       "81 NA                                                             \n",
       "82 NA                                                             \n",
       "83 NA                                                             \n",
       "   Total.eggs.with.cleavage.furrow Total.eggs.at.2.cell.stage\n",
       "1  NA                              1                         \n",
       "2  NA                              2                         \n",
       "3   0                              0                         \n",
       "⋮  ⋮                               ⋮                         \n",
       "81 NA                              NA                        \n",
       "82 NA                              NA                        \n",
       "83 NA                              NA                        \n",
       "   Total.eggs.at.4.cell.stage Total.eggs.at.8.cell.stage X..fertilization...15\n",
       "1  0                          NA                         44.44444444          \n",
       "2  1                          NA                         60.71428571          \n",
       "3  0                          NA                         0.00%                \n",
       "⋮  ⋮                          ⋮                          ⋮                    \n",
       "81 NA                         NA                         NA                   \n",
       "82 NA                         NA                         NA                   \n",
       "83 NA                         NA                         NA                   "
      ]
     },
     "metadata": {},
     "output_type": "display_data"
    }
   ],
   "source": [
    "#read_excel(\"data/data.xlsx\")\n",
    "data1<-read_csv(\"data/data.csv\", skip=1)\n",
    " colnames(data1)<-make.names(colnames(data1))\n",
    "\n",
    "data1"
   ]
  },
  {
   "cell_type": "code",
   "execution_count": 8,
   "id": "d9614938-31d9-4698-a9e1-c43c49f2c367",
   "metadata": {},
   "outputs": [
    {
     "name": "stderr",
     "output_type": "stream",
     "text": [
      "\u001b[1m\u001b[22mNew names:\n",
      "\u001b[36m•\u001b[39m `` -> `...6`\n",
      "\u001b[36m•\u001b[39m `` -> `...7`\n",
      "\u001b[36m•\u001b[39m `` -> `...8`\n",
      "\u001b[36m•\u001b[39m `` -> `...9`\n",
      "\u001b[1mRows: \u001b[22m\u001b[34m71\u001b[39m \u001b[1mColumns: \u001b[22m\u001b[34m9\u001b[39m\n",
      "\u001b[36m──\u001b[39m \u001b[1mColumn specification\u001b[22m \u001b[36m────────────────────────────────────────────────────────\u001b[39m\n",
      "\u001b[1mDelimiter:\u001b[22m \",\"\n",
      "\u001b[31mchr\u001b[39m (4): Student ID, Total # embryos in dish, Max. developmental stage reach...\n",
      "\u001b[32mdbl\u001b[39m (1): Incubation temperature\n",
      "\u001b[33mlgl\u001b[39m (4): ...6, ...7, ...8, ...9\n",
      "\n",
      "\u001b[36mℹ\u001b[39m Use `spec()` to retrieve the full column specification for this data.\n",
      "\u001b[36mℹ\u001b[39m Specify the column types or set `show_col_types = FALSE` to quiet this message.\n",
      "Warning message in mask$eval_all_mutate(quo):\n",
      "“NAs introduced by coercion”\n"
     ]
    },
    {
     "data": {
      "text/html": [
       "<table class=\"dataframe\">\n",
       "<caption>A tibble: 71 × 3</caption>\n",
       "<thead>\n",
       "\t<tr><th scope=col>Incubation.temperature</th><th scope=col>Total...embryos.in.dish</th><th scope=col>Max..developmental.stage.reached</th></tr>\n",
       "\t<tr><th scope=col>&lt;dbl&gt;</th><th scope=col>&lt;dbl&gt;</th><th scope=col>&lt;chr&gt;</th></tr>\n",
       "</thead>\n",
       "<tbody>\n",
       "\t<tr><td>18</td><td>13</td><td>7 to 8</td></tr>\n",
       "\t<tr><td>18</td><td>28</td><td>7 to 8</td></tr>\n",
       "\t<tr><td>18</td><td>30</td><td>N/A   </td></tr>\n",
       "\t<tr><td>⋮</td><td>⋮</td><td>⋮</td></tr>\n",
       "\t<tr><td>23</td><td>33</td><td>7 to 8</td></tr>\n",
       "\t<tr><td>NA</td><td>NA</td><td>NA    </td></tr>\n",
       "\t<tr><td>NA</td><td>NA</td><td>NA    </td></tr>\n",
       "</tbody>\n",
       "</table>\n"
      ],
      "text/latex": [
       "A tibble: 71 × 3\n",
       "\\begin{tabular}{lll}\n",
       " Incubation.temperature & Total...embryos.in.dish & Max..developmental.stage.reached\\\\\n",
       " <dbl> & <dbl> & <chr>\\\\\n",
       "\\hline\n",
       "\t 18 & 13 & 7 to 8\\\\\n",
       "\t 18 & 28 & 7 to 8\\\\\n",
       "\t 18 & 30 & N/A   \\\\\n",
       "\t ⋮ & ⋮ & ⋮\\\\\n",
       "\t 23 & 33 & 7 to 8\\\\\n",
       "\t NA & NA & NA    \\\\\n",
       "\t NA & NA & NA    \\\\\n",
       "\\end{tabular}\n"
      ],
      "text/markdown": [
       "\n",
       "A tibble: 71 × 3\n",
       "\n",
       "| Incubation.temperature &lt;dbl&gt; | Total...embryos.in.dish &lt;dbl&gt; | Max..developmental.stage.reached &lt;chr&gt; |\n",
       "|---|---|---|\n",
       "| 18 | 13 | 7 to 8 |\n",
       "| 18 | 28 | 7 to 8 |\n",
       "| 18 | 30 | N/A    |\n",
       "| ⋮ | ⋮ | ⋮ |\n",
       "| 23 | 33 | 7 to 8 |\n",
       "| NA | NA | NA     |\n",
       "| NA | NA | NA     |\n",
       "\n"
      ],
      "text/plain": [
       "   Incubation.temperature Total...embryos.in.dish\n",
       "1  18                     13                     \n",
       "2  18                     28                     \n",
       "3  18                     30                     \n",
       "⋮  ⋮                      ⋮                      \n",
       "69 23                     33                     \n",
       "70 NA                     NA                     \n",
       "71 NA                     NA                     \n",
       "   Max..developmental.stage.reached\n",
       "1  7 to 8                          \n",
       "2  7 to 8                          \n",
       "3  N/A                             \n",
       "⋮  ⋮                               \n",
       "69 7 to 8                          \n",
       "70 NA                              \n",
       "71 NA                              "
      ]
     },
     "metadata": {},
     "output_type": "display_data"
    },
    {
     "data": {
      "text/html": [
       "<table class=\"dataframe\">\n",
       "<caption>A tibble: 3 × 2</caption>\n",
       "<thead>\n",
       "\t<tr><th scope=col>Incubation.temperature</th><th scope=col>sum</th></tr>\n",
       "\t<tr><th scope=col>&lt;dbl&gt;</th><th scope=col>&lt;dbl&gt;</th></tr>\n",
       "</thead>\n",
       "<tbody>\n",
       "\t<tr><td>18</td><td>571</td></tr>\n",
       "\t<tr><td>23</td><td>543</td></tr>\n",
       "\t<tr><td>NA</td><td> NA</td></tr>\n",
       "</tbody>\n",
       "</table>\n"
      ],
      "text/latex": [
       "A tibble: 3 × 2\n",
       "\\begin{tabular}{ll}\n",
       " Incubation.temperature & sum\\\\\n",
       " <dbl> & <dbl>\\\\\n",
       "\\hline\n",
       "\t 18 & 571\\\\\n",
       "\t 23 & 543\\\\\n",
       "\t NA &  NA\\\\\n",
       "\\end{tabular}\n"
      ],
      "text/markdown": [
       "\n",
       "A tibble: 3 × 2\n",
       "\n",
       "| Incubation.temperature &lt;dbl&gt; | sum &lt;dbl&gt; |\n",
       "|---|---|\n",
       "| 18 | 571 |\n",
       "| 23 | 543 |\n",
       "| NA |  NA |\n",
       "\n"
      ],
      "text/plain": [
       "  Incubation.temperature sum\n",
       "1 18                     571\n",
       "2 23                     543\n",
       "3 NA                      NA"
      ]
     },
     "metadata": {},
     "output_type": "display_data"
    },
    {
     "name": "stderr",
     "output_type": "stream",
     "text": [
      "\u001b[1m\u001b[22m`summarise()` has grouped output by 'Incubation.temperature'. You can override\n",
      "using the `.groups` argument.\n"
     ]
    },
    {
     "data": {
      "text/html": [
       "<table class=\"dataframe\">\n",
       "<caption>A grouped_df: 5 × 3</caption>\n",
       "<thead>\n",
       "\t<tr><th scope=col>Incubation.temperature</th><th scope=col>Max..developmental.stage.reached</th><th scope=col>sum</th></tr>\n",
       "\t<tr><th scope=col>&lt;dbl&gt;</th><th scope=col>&lt;chr&gt;</th><th scope=col>&lt;dbl&gt;</th></tr>\n",
       "</thead>\n",
       "<tbody>\n",
       "\t<tr><td>18</td><td>7 to 8</td><td>527</td></tr>\n",
       "\t<tr><td>18</td><td>N/A   </td><td> 44</td></tr>\n",
       "\t<tr><td>23</td><td>7 to 8</td><td>501</td></tr>\n",
       "\t<tr><td>23</td><td>N/A   </td><td> 42</td></tr>\n",
       "\t<tr><td>NA</td><td>NA    </td><td> NA</td></tr>\n",
       "</tbody>\n",
       "</table>\n"
      ],
      "text/latex": [
       "A grouped\\_df: 5 × 3\n",
       "\\begin{tabular}{lll}\n",
       " Incubation.temperature & Max..developmental.stage.reached & sum\\\\\n",
       " <dbl> & <chr> & <dbl>\\\\\n",
       "\\hline\n",
       "\t 18 & 7 to 8 & 527\\\\\n",
       "\t 18 & N/A    &  44\\\\\n",
       "\t 23 & 7 to 8 & 501\\\\\n",
       "\t 23 & N/A    &  42\\\\\n",
       "\t NA & NA     &  NA\\\\\n",
       "\\end{tabular}\n"
      ],
      "text/markdown": [
       "\n",
       "A grouped_df: 5 × 3\n",
       "\n",
       "| Incubation.temperature &lt;dbl&gt; | Max..developmental.stage.reached &lt;chr&gt; | sum &lt;dbl&gt; |\n",
       "|---|---|---|\n",
       "| 18 | 7 to 8 | 527 |\n",
       "| 18 | N/A    |  44 |\n",
       "| 23 | 7 to 8 | 501 |\n",
       "| 23 | N/A    |  42 |\n",
       "| NA | NA     |  NA |\n",
       "\n"
      ],
      "text/plain": [
       "  Incubation.temperature Max..developmental.stage.reached sum\n",
       "1 18                     7 to 8                           527\n",
       "2 18                     N/A                               44\n",
       "3 23                     7 to 8                           501\n",
       "4 23                     N/A                               42\n",
       "5 NA                     NA                                NA"
      ]
     },
     "metadata": {},
     "output_type": "display_data"
    }
   ],
   "source": [
    "data2<-read_csv(\"data/data2.csv\", skip=1)\n",
    " colnames(data2)<-make.names(colnames(data2))\n",
    "data2<-data2|>\n",
    "    select(Incubation.temperature, Total...embryos.in.dish, Max..developmental.stage.reached)|>\n",
    "        mutate(Total...embryos.in.dish=as.numeric(Total...embryos.in.dish))\n",
    "data2\n",
    "a<-data2|>group_by(Incubation.temperature)|>summarize(sum=sum(Total...embryos.in.dish))\n",
    "a\n",
    "\n",
    "data22<-data2|> group_by(Incubation.temperature,Max..developmental.stage.reached)|>\n",
    "summarize(sum=sum(Total...embryos.in.dish))\n",
    "data22\n"
   ]
  },
  {
   "cell_type": "code",
   "execution_count": 9,
   "id": "e777d9ed-75bc-4d07-9de4-00880108c1af",
   "metadata": {},
   "outputs": [
    {
     "name": "stderr",
     "output_type": "stream",
     "text": [
      "\u001b[1m\u001b[22mNew names:\n",
      "\u001b[36m•\u001b[39m `` -> `...8`\n",
      "\u001b[36m•\u001b[39m `` -> `...9`\n",
      "\u001b[36m•\u001b[39m `` -> `...10`\n",
      "\u001b[36m•\u001b[39m `` -> `...11`\n",
      "\u001b[1mRows: \u001b[22m\u001b[34m39\u001b[39m \u001b[1mColumns: \u001b[22m\u001b[34m11\u001b[39m\n",
      "\u001b[36m──\u001b[39m \u001b[1mColumn specification\u001b[22m \u001b[36m────────────────────────────────────────────────────────\u001b[39m\n",
      "\u001b[1mDelimiter:\u001b[22m \",\"\n",
      "\u001b[31mchr\u001b[39m (6): Lab section, Time of observation, Max. developmental stage reached,...\n",
      "\u001b[32mdbl\u001b[39m (2): Incubation temperature, Total # embryos at each stage\n",
      "\u001b[33mlgl\u001b[39m (3): ...9, ...10, ...11\n",
      "\n",
      "\u001b[36mℹ\u001b[39m Use `spec()` to retrieve the full column specification for this data.\n",
      "\u001b[36mℹ\u001b[39m Specify the column types or set `show_col_types = FALSE` to quiet this message.\n"
     ]
    },
    {
     "data": {
      "text/html": [
       "<table class=\"dataframe\">\n",
       "<caption>A tibble: 39 × 4</caption>\n",
       "<thead>\n",
       "\t<tr><th scope=col>Time.of.observation</th><th scope=col>Incubation.temperature</th><th scope=col>Total...embryos.at.each.stage</th><th scope=col>Max..developmental.stage.reached</th></tr>\n",
       "\t<tr><th scope=col>&lt;chr&gt;</th><th scope=col>&lt;dbl&gt;</th><th scope=col>&lt;dbl&gt;</th><th scope=col>&lt;chr&gt;</th></tr>\n",
       "</thead>\n",
       "<tbody>\n",
       "\t<tr><td>24 hrs post-fertilization (p.f.)</td><td>18</td><td> 5</td><td>11 to 11.5</td></tr>\n",
       "\t<tr><td>24 hrs p.f.                     </td><td>18</td><td>21</td><td>12 to 12.5</td></tr>\n",
       "\t<tr><td>24 hrs p.f.                     </td><td>23</td><td> 6</td><td>19 to 20  </td></tr>\n",
       "\t<tr><td>⋮</td><td>⋮</td><td>⋮</td><td>⋮</td></tr>\n",
       "\t<tr><td>NA</td><td>NA</td><td>NA</td><td>NA</td></tr>\n",
       "\t<tr><td>NA</td><td>NA</td><td>NA</td><td>NA</td></tr>\n",
       "\t<tr><td>NA</td><td>NA</td><td>NA</td><td>NA</td></tr>\n",
       "</tbody>\n",
       "</table>\n"
      ],
      "text/latex": [
       "A tibble: 39 × 4\n",
       "\\begin{tabular}{llll}\n",
       " Time.of.observation & Incubation.temperature & Total...embryos.at.each.stage & Max..developmental.stage.reached\\\\\n",
       " <chr> & <dbl> & <dbl> & <chr>\\\\\n",
       "\\hline\n",
       "\t 24 hrs post-fertilization (p.f.) & 18 &  5 & 11 to 11.5\\\\\n",
       "\t 24 hrs p.f.                      & 18 & 21 & 12 to 12.5\\\\\n",
       "\t 24 hrs p.f.                      & 23 &  6 & 19 to 20  \\\\\n",
       "\t ⋮ & ⋮ & ⋮ & ⋮\\\\\n",
       "\t NA & NA & NA & NA\\\\\n",
       "\t NA & NA & NA & NA\\\\\n",
       "\t NA & NA & NA & NA\\\\\n",
       "\\end{tabular}\n"
      ],
      "text/markdown": [
       "\n",
       "A tibble: 39 × 4\n",
       "\n",
       "| Time.of.observation &lt;chr&gt; | Incubation.temperature &lt;dbl&gt; | Total...embryos.at.each.stage &lt;dbl&gt; | Max..developmental.stage.reached &lt;chr&gt; |\n",
       "|---|---|---|---|\n",
       "| 24 hrs post-fertilization (p.f.) | 18 |  5 | 11 to 11.5 |\n",
       "| 24 hrs p.f.                      | 18 | 21 | 12 to 12.5 |\n",
       "| 24 hrs p.f.                      | 23 |  6 | 19 to 20   |\n",
       "| ⋮ | ⋮ | ⋮ | ⋮ |\n",
       "| NA | NA | NA | NA |\n",
       "| NA | NA | NA | NA |\n",
       "| NA | NA | NA | NA |\n",
       "\n"
      ],
      "text/plain": [
       "   Time.of.observation              Incubation.temperature\n",
       "1  24 hrs post-fertilization (p.f.) 18                    \n",
       "2  24 hrs p.f.                      18                    \n",
       "3  24 hrs p.f.                      23                    \n",
       "⋮  ⋮                                ⋮                     \n",
       "37 NA                               NA                    \n",
       "38 NA                               NA                    \n",
       "39 NA                               NA                    \n",
       "   Total...embryos.at.each.stage Max..developmental.stage.reached\n",
       "1   5                            11 to 11.5                      \n",
       "2  21                            12 to 12.5                      \n",
       "3   6                            19 to 20                        \n",
       "⋮  ⋮                             ⋮                               \n",
       "37 NA                            NA                              \n",
       "38 NA                            NA                              \n",
       "39 NA                            NA                              "
      ]
     },
     "metadata": {},
     "output_type": "display_data"
    }
   ],
   "source": [
    "data3<-read_csv(\"data/data3.csv\", skip=1)\n",
    " colnames(data3)<-make.names(colnames(data3))\n",
    "data3<-data3|>select(Time.of.observation:Max..developmental.stage.reached)\n",
    "data3\n",
    "#b<-data3|>group_by(Incubation.temperature)|>summarize(sum=sum(Total...embryos.at.each.stage))\n",
    "#b\n",
    "#data33<-data3|> group_by(Incubation.temperature,Max..developmental.stage.reached)|>\n",
    "#summarize(sum=sum(Total...embryos.in.dish))\n",
    "#data33\n",
    "\n",
    "#data333<-data3|> mutate(Max..developmental.stage.reached = stringr::str_remove(Max..developmental.stage.reached, pattern = \"\\\\s\"))\n",
    "#group_by(Max..developmental.stage.reached)|>summarize(sum=sum(Total...embryos.in.dish))\n",
    "#data333\n",
    "\n"
   ]
  },
  {
   "cell_type": "code",
   "execution_count": 10,
   "id": "4c4fbe82-f080-415c-8c30-d23c8e1d2c96",
   "metadata": {},
   "outputs": [
    {
     "ename": "ERROR",
     "evalue": "Error in parse(text = x, srcfile = src): function 'if' not supported in RHS call of a pipe\n",
     "output_type": "error",
     "traceback": [
      "Error in parse(text = x, srcfile = src): function 'if' not supported in RHS call of a pipe\nTraceback:\n"
     ]
    }
   ],
   "source": [
    "data333<-data3|> mutate(Max..developmental.stage.reached = stringr::str_remove(Max..developmental.stage.reached, pattern = \"\\\\s\"))\n",
    "#group_by(Max..developmental.stage.reached)|>summarize(sum=sum(Total...embryos.in.dish))\n",
    "\n",
    "data333<-data333|> mutate(Max..developmental.stage.reached = stringr::str_remove(Max..developmental.stage.reached, pattern = \"\\\\s\"))\n",
    "#group_by(Max..developmental.stage.reached)|>summarize(sum=sum(Total...embryos.in.dish))\n",
    "data333\n",
    "data18<-data333|>if(Incubation.temperature==18) {mutate(Total...embryos.at.each.stage=Total...embryos.at.each.stage/597)}\n",
    "else {mutate(Total...embryos.at.each.stage=Total...embryos.at.each.stage/5}\n",
    "\n",
    "data34<-data333|> group_by(Max..developmental.stage.reached,Incubation.temperature)|>\n",
    "summarize(sum=sum(Total...embryos.at.each.stage))#|>\n",
    "#filter(Max..developmental.stage.reached != NA)\n",
    "data34"
   ]
  },
  {
   "cell_type": "markdown",
   "id": "70e76161-85a3-4904-bbbe-8dcfab716a90",
   "metadata": {},
   "source": [
    "# pearson chi sq contengency table\n",
    "# survial rate for 23 vs 18 "
   ]
  },
  {
   "cell_type": "code",
   "execution_count": 11,
   "id": "24e6b731-60aa-4bb7-8ffd-d40d81f413d5",
   "metadata": {},
   "outputs": [
    {
     "data": {
      "text/html": [
       "<table class=\"dataframe\">\n",
       "<caption>A matrix: 2 × 3 of type chr</caption>\n",
       "<thead>\n",
       "\t<tr><th scope=col>Temprature</th><th scope=col>Lost</th><th scope=col>Alive</th></tr>\n",
       "</thead>\n",
       "<tbody>\n",
       "\t<tr><td>18C</td><td>571</td><td>26</td></tr>\n",
       "\t<tr><td>23C</td><td>543</td><td>17</td></tr>\n",
       "</tbody>\n",
       "</table>\n"
      ],
      "text/latex": [
       "A matrix: 2 × 3 of type chr\n",
       "\\begin{tabular}{lll}\n",
       " Temprature & Lost & Alive\\\\\n",
       "\\hline\n",
       "\t 18C & 571 & 26\\\\\n",
       "\t 23C & 543 & 17\\\\\n",
       "\\end{tabular}\n"
      ],
      "text/markdown": [
       "\n",
       "A matrix: 2 × 3 of type chr\n",
       "\n",
       "| Temprature | Lost | Alive |\n",
       "|---|---|---|\n",
       "| 18C | 571 | 26 |\n",
       "| 23C | 543 | 17 |\n",
       "\n"
      ],
      "text/plain": [
       "     Temprature Lost Alive\n",
       "[1,] 18C        571  26   \n",
       "[2,] 23C        543  17   "
      ]
     },
     "metadata": {},
     "output_type": "display_data"
    },
    {
     "data": {
      "text/html": [
       "<table class=\"dataframe\">\n",
       "<caption>A data.frame: 2 × 4</caption>\n",
       "<thead>\n",
       "\t<tr><th scope=col>Temprature</th><th scope=col>Lost.</th><th scope=col>Alive.</th><th scope=col>Total</th></tr>\n",
       "\t<tr><th scope=col>&lt;chr&gt;</th><th scope=col>&lt;dbl&gt;</th><th scope=col>&lt;dbl&gt;</th><th scope=col>&lt;dbl&gt;</th></tr>\n",
       "</thead>\n",
       "<tbody>\n",
       "\t<tr><td>18C</td><td>0.9564489</td><td>0.04355109</td><td>597</td></tr>\n",
       "\t<tr><td>23C</td><td>0.9696429</td><td>0.03035714</td><td>560</td></tr>\n",
       "</tbody>\n",
       "</table>\n"
      ],
      "text/latex": [
       "A data.frame: 2 × 4\n",
       "\\begin{tabular}{llll}\n",
       " Temprature & Lost. & Alive. & Total\\\\\n",
       " <chr> & <dbl> & <dbl> & <dbl>\\\\\n",
       "\\hline\n",
       "\t 18C & 0.9564489 & 0.04355109 & 597\\\\\n",
       "\t 23C & 0.9696429 & 0.03035714 & 560\\\\\n",
       "\\end{tabular}\n"
      ],
      "text/markdown": [
       "\n",
       "A data.frame: 2 × 4\n",
       "\n",
       "| Temprature &lt;chr&gt; | Lost. &lt;dbl&gt; | Alive. &lt;dbl&gt; | Total &lt;dbl&gt; |\n",
       "|---|---|---|---|\n",
       "| 18C | 0.9564489 | 0.04355109 | 597 |\n",
       "| 23C | 0.9696429 | 0.03035714 | 560 |\n",
       "\n"
      ],
      "text/plain": [
       "  Temprature Lost.     Alive.     Total\n",
       "1 18C        0.9564489 0.04355109 597  \n",
       "2 23C        0.9696429 0.03035714 560  "
      ]
     },
     "metadata": {},
     "output_type": "display_data"
    },
    {
     "data": {
      "text/html": [
       "<table class=\"dataframe\">\n",
       "<caption>A matrix: 2 × 2 of type dbl</caption>\n",
       "<tbody>\n",
       "\t<tr><td>571</td><td>26</td></tr>\n",
       "\t<tr><td>543</td><td>17</td></tr>\n",
       "</tbody>\n",
       "</table>\n"
      ],
      "text/latex": [
       "A matrix: 2 × 2 of type dbl\n",
       "\\begin{tabular}{ll}\n",
       "\t 571 & 26\\\\\n",
       "\t 543 & 17\\\\\n",
       "\\end{tabular}\n"
      ],
      "text/markdown": [
       "\n",
       "A matrix: 2 × 2 of type dbl\n",
       "\n",
       "| 571 | 26 |\n",
       "| 543 | 17 |\n",
       "\n"
      ],
      "text/plain": [
       "     [,1] [,2]\n",
       "[1,] 571  26  \n",
       "[2,] 543  17  "
      ]
     },
     "metadata": {},
     "output_type": "display_data"
    },
    {
     "data": {
      "text/plain": [
       "\n",
       "\tPearson's Chi-squared test\n",
       "\n",
       "data:  datatable\n",
       "X-squared = 1.4057, df = 1, p-value = 0.2358\n"
      ]
     },
     "metadata": {},
     "output_type": "display_data"
    }
   ],
   "source": [
    "df<-data.frame(\n",
    "    \"Temprature\"=c(\"18C\",\"23C\"),\n",
    "    \"Lost\"=c(571,543),\n",
    "    \"Alive\"=c(26,17)\n",
    "    )\n",
    "\n",
    "\n",
    "df2<-data.frame(\n",
    "    \"Temprature\"=c(\"18C\",\"23C\"),\n",
    "    \"Lost%\"=c(571/597,543/560),\n",
    "    \"Alive%\"=c(26/597,17/560),\n",
    "    \"Total\"=c(597,560)\n",
    "    )\n",
    "\n",
    "modifiedDf<-as.matrix(df)\n",
    "modifiedDf\n",
    "df2\n",
    "datatable <- matrix(c(571,543,26,17),nrow=2,ncol=2)\n",
    "datatable\n",
    "#datatable\n",
    "chisq.test(datatable,correct=FALSE)\n",
    "\n",
    "#table<-as.table(modifiedDf)\n",
    "#modifiedDf\n",
    "#table\n",
    "\n",
    "df2<-data.frame(\n",
    "    \"Temprature\"=c(\"18C\",\"23C\",\"18C\",\"23C\"),\n",
    "    \"percent\"=c(571/597,543/560,26/597,17/560),\n",
    "    \"Stat\"=c('dead','dead', 'live','live')\n",
    "    )\n",
    "#mosaicplot(table)\n",
    "#chisq.test(table)"
   ]
  },
  {
   "cell_type": "code",
   "execution_count": 12,
   "id": "04ae501a-115b-4aad-9ec9-616fc007f2ef",
   "metadata": {},
   "outputs": [
    {
     "data": {
      "text/html": [
       "<table class=\"dataframe\">\n",
       "<caption>A data.frame: 4 × 3</caption>\n",
       "<thead>\n",
       "\t<tr><th scope=col>Temperature</th><th scope=col>percent</th><th scope=col>Stat</th></tr>\n",
       "\t<tr><th scope=col>&lt;chr&gt;</th><th scope=col>&lt;dbl&gt;</th><th scope=col>&lt;chr&gt;</th></tr>\n",
       "</thead>\n",
       "<tbody>\n",
       "\t<tr><td>18C</td><td>0.95644891</td><td>dead</td></tr>\n",
       "\t<tr><td>23C</td><td>0.96964286</td><td>dead</td></tr>\n",
       "\t<tr><td>18C</td><td>0.04355109</td><td>live</td></tr>\n",
       "\t<tr><td>23C</td><td>0.03035714</td><td>live</td></tr>\n",
       "</tbody>\n",
       "</table>\n"
      ],
      "text/latex": [
       "A data.frame: 4 × 3\n",
       "\\begin{tabular}{lll}\n",
       " Temperature & percent & Stat\\\\\n",
       " <chr> & <dbl> & <chr>\\\\\n",
       "\\hline\n",
       "\t 18C & 0.95644891 & dead\\\\\n",
       "\t 23C & 0.96964286 & dead\\\\\n",
       "\t 18C & 0.04355109 & live\\\\\n",
       "\t 23C & 0.03035714 & live\\\\\n",
       "\\end{tabular}\n"
      ],
      "text/markdown": [
       "\n",
       "A data.frame: 4 × 3\n",
       "\n",
       "| Temperature &lt;chr&gt; | percent &lt;dbl&gt; | Stat &lt;chr&gt; |\n",
       "|---|---|---|\n",
       "| 18C | 0.95644891 | dead |\n",
       "| 23C | 0.96964286 | dead |\n",
       "| 18C | 0.04355109 | live |\n",
       "| 23C | 0.03035714 | live |\n",
       "\n"
      ],
      "text/plain": [
       "  Temperature percent    Stat\n",
       "1 18C         0.95644891 dead\n",
       "2 23C         0.96964286 dead\n",
       "3 18C         0.04355109 live\n",
       "4 23C         0.03035714 live"
      ]
     },
     "metadata": {},
     "output_type": "display_data"
    }
   ],
   "source": [
    "df3<-data.frame(\n",
    "    \"Temperature\"=c(\"18C\",\"23C\",\"18C\",\"23C\"),\n",
    "    \"percent\"=c(571/597,543/560,26/597,17/560),\n",
    "    \"Stat\"=c('dead','dead', 'live','live')\n",
    "    )\n",
    "df3"
   ]
  },
  {
   "cell_type": "code",
   "execution_count": 13,
   "id": "9f65f4ba-767c-48b2-8d1e-21d2915a7aa5",
   "metadata": {},
   "outputs": [
    {
     "data": {
      "image/png": "[encoded data removed]",
      "text/plain": [
       "plot without title"
      ]
     },
     "metadata": {
      "image/png": {
       "height": 420,
       "width": 420
      }
     },
     "output_type": "display_data"
    }
   ],
   "source": [
    "ggplot(df3, aes(x=Temperature, y=percent, fill=Stat))+\n",
    "geom_bar(stat=\"identity\", position = position_dodge())\n"
   ]
  },
  {
   "cell_type": "markdown",
   "id": "cc989e39-af90-4743-80f7-e0c7df8e1e65",
   "metadata": {},
   "source": [
    "different degrees do not affect the death rate "
   ]
  },
  {
   "cell_type": "code",
   "execution_count": null,
   "id": "986bbf46-91f6-49e9-b9ce-4c5e79862fc9",
   "metadata": {},
   "outputs": [],
   "source": []
  },
  {
   "cell_type": "code",
   "execution_count": null,
   "id": "f3fdcd6c-3a7f-4a27-ac06-ca55031c5cb4",
   "metadata": {},
   "outputs": [],
   "source": []
  },
  {
   "cell_type": "code",
   "execution_count": null,
   "id": "0ab89f47-04b0-4d17-8f50-d5eb04a062ed",
   "metadata": {},
   "outputs": [],
   "source": []
  },
  {
   "cell_type": "code",
   "execution_count": null,
   "id": "869702fc-b068-460f-8e15-c4e386574fdb",
   "metadata": {},
   "outputs": [],
   "source": []
  },
  {
   "cell_type": "code",
   "execution_count": null,
   "id": "dd9f2bbb-6e95-4e30-842c-7277c1ba9397",
   "metadata": {},
   "outputs": [],
   "source": []
  }
 ],
 "metadata": {
  "kernelspec": {
   "display_name": "R",
   "language": "R",
   "name": "ir"
  },
  "language_info": {
   "codemirror_mode": "r",
   "file_extension": ".r",
   "mimetype": "text/x-r-source",
   "name": "R",
   "pygments_lexer": "r",
   "version": "4.2.2"
  }
 },
 "nbformat": 4,
 "nbformat_minor": 5
}
